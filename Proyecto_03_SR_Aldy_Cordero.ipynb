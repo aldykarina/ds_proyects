{
  "nbformat": 4,
  "nbformat_minor": 0,
  "metadata": {
    "kernelspec": {
      "display_name": "Python 3",
      "language": "python",
      "name": "python3"
    },
    "language_info": {
      "codemirror_mode": {
        "name": "ipython",
        "version": 3
      },
      "file_extension": ".py",
      "mimetype": "text/x-python",
      "name": "python",
      "nbconvert_exporter": "python",
      "pygments_lexer": "ipython3",
      "version": "3.8.2"
    },
    "colab": {
      "name": "Proyecto_03_SR_Aldy_Cordero.ipynb",
      "provenance": [],
      "collapsed_sections": [],
      "toc_visible": true
    }
  },
  "cells": [
    {
      "cell_type": "markdown",
      "metadata": {
        "id": "gzJLet17WTzh"
      },
      "source": [
        "# Proyecto 03 - Sistemas de Recomendación\n",
        "\n",
        "## Dataset: STEAM\n",
        "\n",
        "**Link [aquí](https://github.com/kang205/SASRec). Son dos archivos, uno de calificaciones y otro de información sobre los juegos.**\n",
        "\n",
        "### Exploración de datos\n",
        "\n",
        "### Filtro Colaborativo\n",
        "\n",
        "### Para pensar, investigar y, opcionalmente, implementar\n"
      ]
    },
    {
      "cell_type": "markdown",
      "metadata": {
        "id": "mUJEb2ks-zfB"
      },
      "source": [
        "## **Exploración de datos**"
      ]
    },
    {
      "cell_type": "markdown",
      "metadata": {
        "id": "xzN5jB-paTYM"
      },
      "source": [
        "### **Librerías**"
      ]
    },
    {
      "cell_type": "code",
      "metadata": {
        "colab": {
          "base_uri": "https://localhost:8080/"
        },
        "id": "AD7s3brCZlUQ",
        "outputId": "decc174f-45a9-48a5-b1b1-9745daf58ea7"
      },
      "source": [
        "from google.colab import drive \n",
        "drive.mount('/content/gdrive')"
      ],
      "execution_count": 1,
      "outputs": [
        {
          "output_type": "stream",
          "text": [
            "Mounted at /content/gdrive\n"
          ],
          "name": "stdout"
        }
      ]
    },
    {
      "cell_type": "code",
      "metadata": {
        "id": "lWZhtUxEWTzj"
      },
      "source": [
        "import gzip\n",
        "import pandas as pd\n",
        "import numpy as np\n",
        "\n",
        "#import ast\n",
        "#sns.set(palette=\"Blues_d\")\n",
        "\n",
        "import matplotlib.pyplot as plt\n",
        "import seaborn as sns\n",
        "sns.set()\n",
        "from sklearn.preprocessing import LabelEncoder\n",
        "\n",
        "\n",
        "def parse(path):\n",
        "    g = gzip.open(path, 'r')\n",
        "    for l in g:\n",
        "        yield eval(l)\n"
      ],
      "execution_count": 2,
      "outputs": []
    },
    {
      "cell_type": "markdown",
      "metadata": {
        "id": "ZRu2DRcDNLQr"
      },
      "source": [
        "### **Abrir los archivos**"
      ]
    },
    {
      "cell_type": "markdown",
      "metadata": {
        "id": "UUOq450IAVGh"
      },
      "source": [
        "Abrimos el archivo json, creamos un nuevo archivo pasandolo csv y lo guardamos.\n",
        "\n"
      ]
    },
    {
      "cell_type": "markdown",
      "metadata": {
        "id": "eFsr8PkWNjsZ"
      },
      "source": [
        "**Reviews**\n",
        "\n",
        "Con este codigo solo tomamos una decima parte del dataset original para no colapsar la memoria RAM.\n",
        "Y lo guardamos como archivo csv."
      ]
    },
    {
      "cell_type": "code",
      "metadata": {
        "id": "abAXItn1WTz0"
      },
      "source": [
        "#contador = 0\n",
        "#data_reviews = []\n",
        "# Vamos a guardar una de cada 10 reviews para no llenar la memoria RAM. Si pones n = 3, \n",
        "# abrira uno de cada tres, y asi.\n",
        "\n",
        "#n = 10\n",
        "#for l in parse('/content/gdrive/MyDrive/Colab Files/steam_reviews.json.gz'):\n",
        "#    if contador%n == 0:\n",
        "#        data_reviews.append(l)\n",
        "#    else:\n",
        "#        pass\n",
        "#    contador += 1\n",
        "#data_reviews = pd.DataFrame(data_reviews)\n",
        "#data_reviews.to_csv('/content/gdrive/MyDrive/Colab Files/data_reviews.csv',index=False)"
      ],
      "execution_count": 3,
      "outputs": []
    },
    {
      "cell_type": "code",
      "metadata": {
        "id": "Z7Ll1zw5bfHR"
      },
      "source": [
        "data_reviews = pd.read_csv('/content/gdrive/MyDrive/Colab Files/data_reviews.csv')\n",
        "#data_reviews= pd.DataFrame(data_reviews, columns=['username', 'product_id', 'text'])"
      ],
      "execution_count": 4,
      "outputs": []
    },
    {
      "cell_type": "markdown",
      "metadata": {
        "id": "ztc80__FNt70"
      },
      "source": [
        "**Games**"
      ]
    },
    {
      "cell_type": "code",
      "metadata": {
        "id": "8wRb24Y5WT0U"
      },
      "source": [
        "#data_games = []\n",
        "#for l in parse('/content/gdrive/MyDrive/Colab Files/steam_games.json.gz'):\n",
        "#    data_games.append(l)\n",
        "#data_games = pd.DataFrame(data_games) \n",
        "#data_games.to_csv('/content/gdrive/MyDrive/Colab Files/data_games.csv',index=False)\n"
      ],
      "execution_count": 5,
      "outputs": []
    },
    {
      "cell_type": "code",
      "metadata": {
        "id": "9KiSQi8xw7K_"
      },
      "source": [
        "data_games = pd.read_csv('/content/gdrive/MyDrive/Colab Files/data_games.csv')"
      ],
      "execution_count": 6,
      "outputs": []
    },
    {
      "cell_type": "code",
      "metadata": {
        "id": "G2HKFJSThMXY"
      },
      "source": [
        "#data_games= pd.DataFrame(data_games, columns=['title', 'id'])"
      ],
      "execution_count": 7,
      "outputs": []
    },
    {
      "cell_type": "markdown",
      "metadata": {
        "id": "BmEM25k4WTzw"
      },
      "source": [
        "### **Reviews**"
      ]
    },
    {
      "cell_type": "code",
      "metadata": {
        "colab": {
          "base_uri": "https://localhost:8080/"
        },
        "id": "Vw09T4IwolS9",
        "outputId": "8e3dfb18-29f3-457b-bc71-af556d4003e7"
      },
      "source": [
        "print(f'Nº de filas: {data_reviews.shape[0]}')\n",
        "print(f'Nº de columnas: {data_reviews.shape[1]}')\n",
        "#print('\\n')\n",
        "#print('Nombre de las columnas: ')\n",
        "#for col in data_reviews.columns:\n",
        "#    print(col)\n",
        "#print('\\n')"
      ],
      "execution_count": 8,
      "outputs": [
        {
          "output_type": "stream",
          "text": [
            "Nº de filas: 779307\n",
            "Nº de columnas: 12\n"
          ],
          "name": "stdout"
        }
      ]
    },
    {
      "cell_type": "code",
      "metadata": {
        "colab": {
          "base_uri": "https://localhost:8080/",
          "height": 293
        },
        "id": "rzDQAxC2A0Qs",
        "outputId": "ed5292dc-81c3-4399-bbab-bd34a96d62b8"
      },
      "source": [
        "data_reviews.head()"
      ],
      "execution_count": 9,
      "outputs": [
        {
          "output_type": "execute_result",
          "data": {
            "text/html": [
              "<div>\n",
              "<style scoped>\n",
              "    .dataframe tbody tr th:only-of-type {\n",
              "        vertical-align: middle;\n",
              "    }\n",
              "\n",
              "    .dataframe tbody tr th {\n",
              "        vertical-align: top;\n",
              "    }\n",
              "\n",
              "    .dataframe thead th {\n",
              "        text-align: right;\n",
              "    }\n",
              "</style>\n",
              "<table border=\"1\" class=\"dataframe\">\n",
              "  <thead>\n",
              "    <tr style=\"text-align: right;\">\n",
              "      <th></th>\n",
              "      <th>username</th>\n",
              "      <th>hours</th>\n",
              "      <th>products</th>\n",
              "      <th>product_id</th>\n",
              "      <th>page_order</th>\n",
              "      <th>date</th>\n",
              "      <th>text</th>\n",
              "      <th>early_access</th>\n",
              "      <th>page</th>\n",
              "      <th>user_id</th>\n",
              "      <th>compensation</th>\n",
              "      <th>found_funny</th>\n",
              "    </tr>\n",
              "  </thead>\n",
              "  <tbody>\n",
              "    <tr>\n",
              "      <th>0</th>\n",
              "      <td>Chaos Syren</td>\n",
              "      <td>0.1</td>\n",
              "      <td>41.0</td>\n",
              "      <td>725280</td>\n",
              "      <td>0</td>\n",
              "      <td>2017-12-17</td>\n",
              "      <td>This would not be acceptable as an entertainme...</td>\n",
              "      <td>False</td>\n",
              "      <td>1</td>\n",
              "      <td>NaN</td>\n",
              "      <td>NaN</td>\n",
              "      <td>NaN</td>\n",
              "    </tr>\n",
              "    <tr>\n",
              "      <th>1</th>\n",
              "      <td>Ariman1</td>\n",
              "      <td>13.2</td>\n",
              "      <td>1386.0</td>\n",
              "      <td>328100</td>\n",
              "      <td>2</td>\n",
              "      <td>2017-08-02</td>\n",
              "      <td>Addictive RPG ! Works fine on linux though it ...</td>\n",
              "      <td>False</td>\n",
              "      <td>1</td>\n",
              "      <td>NaN</td>\n",
              "      <td>NaN</td>\n",
              "      <td>NaN</td>\n",
              "    </tr>\n",
              "    <tr>\n",
              "      <th>2</th>\n",
              "      <td>freakfantom</td>\n",
              "      <td>0.1</td>\n",
              "      <td>1706.0</td>\n",
              "      <td>725280</td>\n",
              "      <td>5</td>\n",
              "      <td>2017-11-12</td>\n",
              "      <td>Прикольная стрелялка. Взял дешево на распродаже.</td>\n",
              "      <td>False</td>\n",
              "      <td>1</td>\n",
              "      <td>NaN</td>\n",
              "      <td>NaN</td>\n",
              "      <td>NaN</td>\n",
              "    </tr>\n",
              "    <tr>\n",
              "      <th>3</th>\n",
              "      <td>The_Cpt_FROGGY</td>\n",
              "      <td>7.8</td>\n",
              "      <td>2217.0</td>\n",
              "      <td>631920</td>\n",
              "      <td>0</td>\n",
              "      <td>2017-12-11</td>\n",
              "      <td>Somewhere on Zibylon:\\n~~~~~~~~~~~~~~~~~~\\nZib...</td>\n",
              "      <td>False</td>\n",
              "      <td>1</td>\n",
              "      <td>7.656120e+16</td>\n",
              "      <td>Product received for free</td>\n",
              "      <td>NaN</td>\n",
              "    </tr>\n",
              "    <tr>\n",
              "      <th>4</th>\n",
              "      <td>the_maker988</td>\n",
              "      <td>8.2</td>\n",
              "      <td>18.0</td>\n",
              "      <td>35140</td>\n",
              "      <td>7</td>\n",
              "      <td>2018-01-02</td>\n",
              "      <td>This game was way to linear for me, and compar...</td>\n",
              "      <td>False</td>\n",
              "      <td>1</td>\n",
              "      <td>7.656120e+16</td>\n",
              "      <td>NaN</td>\n",
              "      <td>NaN</td>\n",
              "    </tr>\n",
              "  </tbody>\n",
              "</table>\n",
              "</div>"
            ],
            "text/plain": [
              "         username  hours  ...               compensation  found_funny\n",
              "0     Chaos Syren    0.1  ...                        NaN          NaN\n",
              "1         Ariman1   13.2  ...                        NaN          NaN\n",
              "2     freakfantom    0.1  ...                        NaN          NaN\n",
              "3  The_Cpt_FROGGY    7.8  ...  Product received for free          NaN\n",
              "4    the_maker988    8.2  ...                        NaN          NaN\n",
              "\n",
              "[5 rows x 12 columns]"
            ]
          },
          "metadata": {
            "tags": []
          },
          "execution_count": 9
        }
      ]
    },
    {
      "cell_type": "markdown",
      "metadata": {
        "id": "q8DSLmKnOgXT"
      },
      "source": [
        "**Data Reviews**: contiene información sobre las reseñas que realizaron los usuarios sobre los juegos que bajaron de la plataforma. A continuación describiremos sus principales características:\n",
        "\n",
        "\n",
        "*   **username**: nombre del usuario\n",
        "*   **hours** horas que ese usuario ha jugado ese juego\n",
        "*   **products**: cantidad de productos que el usuario compro en la plataforma\n",
        "*   **product_id**: identificacion numerica y única del juego\n",
        "*   **date**: fecha en que el usuario realizó la reseña\n",
        "*   **text**: texto con observaciones del usuario\n",
        "*   **found_funny** las reseñas que realiza el usuario pueden ser marcadas como \"funnys\" por otros usuarios. Este indicador numerico es la cantidad de \"calificaciones funny\" que su reseña obtuvo. Es importante señalar que las reseñas que el usuario realiza solo puede calificarlas con \"dedito arriba\" o \"dedito abajo\". \n",
        "\n",
        "    \n"
      ]
    },
    {
      "cell_type": "markdown",
      "metadata": {
        "id": "MIx5laE1EzyW"
      },
      "source": [
        "Evitamos que los product_id aparezcan con notación cientrífica\n"
      ]
    },
    {
      "cell_type": "code",
      "metadata": {
        "id": "E2NhtRMgE3yl"
      },
      "source": [
        "pd.options.display.float_format = '{:.1f}'.format"
      ],
      "execution_count": 10,
      "outputs": []
    },
    {
      "cell_type": "markdown",
      "metadata": {
        "id": "Re1N2M38ETs5"
      },
      "source": [
        "Miramos las principales estadísticas de las variables numéricas"
      ]
    },
    {
      "cell_type": "code",
      "metadata": {
        "colab": {
          "base_uri": "https://localhost:8080/",
          "height": 300
        },
        "id": "YRE3qO-CERBl",
        "outputId": "73810a00-c0fb-49a8-857d-a4684f095efe"
      },
      "source": [
        "data_reviews.describe()"
      ],
      "execution_count": 11,
      "outputs": [
        {
          "output_type": "execute_result",
          "data": {
            "text/html": [
              "<div>\n",
              "<style scoped>\n",
              "    .dataframe tbody tr th:only-of-type {\n",
              "        vertical-align: middle;\n",
              "    }\n",
              "\n",
              "    .dataframe tbody tr th {\n",
              "        vertical-align: top;\n",
              "    }\n",
              "\n",
              "    .dataframe thead th {\n",
              "        text-align: right;\n",
              "    }\n",
              "</style>\n",
              "<table border=\"1\" class=\"dataframe\">\n",
              "  <thead>\n",
              "    <tr style=\"text-align: right;\">\n",
              "      <th></th>\n",
              "      <th>hours</th>\n",
              "      <th>products</th>\n",
              "      <th>product_id</th>\n",
              "      <th>page_order</th>\n",
              "      <th>page</th>\n",
              "      <th>user_id</th>\n",
              "      <th>found_funny</th>\n",
              "    </tr>\n",
              "  </thead>\n",
              "  <tbody>\n",
              "    <tr>\n",
              "      <th>count</th>\n",
              "      <td>776670.0</td>\n",
              "      <td>777741.0</td>\n",
              "      <td>779307.0</td>\n",
              "      <td>779307.0</td>\n",
              "      <td>779307.0</td>\n",
              "      <td>317340.0</td>\n",
              "      <td>120164.0</td>\n",
              "    </tr>\n",
              "    <tr>\n",
              "      <th>mean</th>\n",
              "      <td>111.8</td>\n",
              "      <td>237.0</td>\n",
              "      <td>251489.8</td>\n",
              "      <td>4.4</td>\n",
              "      <td>893.6</td>\n",
              "      <td>76561198096636224.0</td>\n",
              "      <td>7.7</td>\n",
              "    </tr>\n",
              "    <tr>\n",
              "      <th>std</th>\n",
              "      <td>390.1</td>\n",
              "      <td>486.0</td>\n",
              "      <td>149975.4</td>\n",
              "      <td>2.9</td>\n",
              "      <td>1928.3</td>\n",
              "      <td>100769430.4</td>\n",
              "      <td>72.5</td>\n",
              "    </tr>\n",
              "    <tr>\n",
              "      <th>min</th>\n",
              "      <td>0.0</td>\n",
              "      <td>1.0</td>\n",
              "      <td>10.0</td>\n",
              "      <td>0.0</td>\n",
              "      <td>1.0</td>\n",
              "      <td>76561197960267616.0</td>\n",
              "      <td>1.0</td>\n",
              "    </tr>\n",
              "    <tr>\n",
              "      <th>25%</th>\n",
              "      <td>4.0</td>\n",
              "      <td>45.0</td>\n",
              "      <td>203770.0</td>\n",
              "      <td>2.0</td>\n",
              "      <td>53.0</td>\n",
              "      <td>76561198025782096.0</td>\n",
              "      <td>1.0</td>\n",
              "    </tr>\n",
              "    <tr>\n",
              "      <th>50%</th>\n",
              "      <td>15.3</td>\n",
              "      <td>110.0</td>\n",
              "      <td>252490.0</td>\n",
              "      <td>4.0</td>\n",
              "      <td>238.0</td>\n",
              "      <td>76561198071266832.0</td>\n",
              "      <td>1.0</td>\n",
              "    </tr>\n",
              "    <tr>\n",
              "      <th>75%</th>\n",
              "      <td>59.6</td>\n",
              "      <td>246.0</td>\n",
              "      <td>346110.0</td>\n",
              "      <td>7.0</td>\n",
              "      <td>829.0</td>\n",
              "      <td>76561198140805376.0</td>\n",
              "      <td>3.0</td>\n",
              "    </tr>\n",
              "    <tr>\n",
              "      <th>max</th>\n",
              "      <td>28164.0</td>\n",
              "      <td>13540.0</td>\n",
              "      <td>773900.0</td>\n",
              "      <td>9.0</td>\n",
              "      <td>18371.0</td>\n",
              "      <td>76561198803033792.0</td>\n",
              "      <td>6524.0</td>\n",
              "    </tr>\n",
              "  </tbody>\n",
              "</table>\n",
              "</div>"
            ],
            "text/plain": [
              "         hours  products  product_id  ...     page             user_id  found_funny\n",
              "count 776670.0  777741.0    779307.0  ... 779307.0            317340.0     120164.0\n",
              "mean     111.8     237.0    251489.8  ...    893.6 76561198096636224.0          7.7\n",
              "std      390.1     486.0    149975.4  ...   1928.3         100769430.4         72.5\n",
              "min        0.0       1.0        10.0  ...      1.0 76561197960267616.0          1.0\n",
              "25%        4.0      45.0    203770.0  ...     53.0 76561198025782096.0          1.0\n",
              "50%       15.3     110.0    252490.0  ...    238.0 76561198071266832.0          1.0\n",
              "75%       59.6     246.0    346110.0  ...    829.0 76561198140805376.0          3.0\n",
              "max    28164.0   13540.0    773900.0  ...  18371.0 76561198803033792.0       6524.0\n",
              "\n",
              "[8 rows x 7 columns]"
            ]
          },
          "metadata": {
            "tags": []
          },
          "execution_count": 11
        }
      ]
    },
    {
      "cell_type": "markdown",
      "metadata": {
        "id": "INoDTmWmSwgn"
      },
      "source": [
        "Las variables: \n",
        "\n",
        "*   **hours**: tiene un crecimineto exponecial en el último cuartil, las horas de juego van de 60 a 28164.\n",
        "*   **product_id**: es un valor númerico que asigna como referenica a un juego en particular, el cual hace referencia también al atributo \"id\" del archivo data_games que también le asigna la misma referencia a un solo juego en particular.\n",
        "*   **user_id**: es un valor de referencia para el usuario\n",
        "*   **found_funny**: vemos que al igual que hours, presenta un crecimiento exponencial en el último cuartil, pasando los datos de 3 a 6524.\n",
        "\n"
      ]
    },
    {
      "cell_type": "code",
      "metadata": {
        "id": "8F-EVRZ4WT0L",
        "colab": {
          "base_uri": "https://localhost:8080/"
        },
        "outputId": "684f2b7e-442d-4b3c-f16b-ae238b25b9b1"
      },
      "source": [
        "data_reviews.isna().sum()"
      ],
      "execution_count": 12,
      "outputs": [
        {
          "output_type": "execute_result",
          "data": {
            "text/plain": [
              "username            18\n",
              "hours             2637\n",
              "products          1566\n",
              "product_id           0\n",
              "page_order           0\n",
              "date                 0\n",
              "text              1839\n",
              "early_access         0\n",
              "page                 0\n",
              "user_id         461967\n",
              "compensation    764719\n",
              "found_funny     659143\n",
              "dtype: int64"
            ]
          },
          "metadata": {
            "tags": []
          },
          "execution_count": 12
        }
      ]
    },
    {
      "cell_type": "markdown",
      "metadata": {
        "id": "hN9947rcUvCb"
      },
      "source": [
        "* *Variables con elementos faltantes:*  \n",
        "\n",
        "Las variables con mayor cantidad de valores faltantes son:\n",
        "\n",
        "1. *compensation* **98%** (764719)\n",
        "2. *found_funny* **86%** (659143)\n",
        "3. *user_id* ***59%*** (461967)\n",
        "\n",
        "Las variables con menor cantidad de valores faltantes son:    \n",
        "4. *hours* 0,3% (2637)\n",
        "5. *text* 0,2% (1839)\n",
        "6. *product* 0,2% (1566)"
      ]
    },
    {
      "cell_type": "markdown",
      "metadata": {
        "id": "RMUWPrg-b3Qy"
      },
      "source": [
        "Descartamos las variables de las columnas poco significaticas por no aportar informacion relevante para este estudio, como lo son: products, page_order, date, page, early_acces, \"found_funny\" y compensation.\n",
        "\n",
        "Por otro lado \"userd_id\" contiene casi el 60% de valores faltantes y como esta variable se refiere al número unico de identificación del usuario, la eliminamos y usamos \"username\"."
      ]
    },
    {
      "cell_type": "markdown",
      "metadata": {
        "id": "z92KgTcskFDJ"
      },
      "source": [
        "Los datos nulos de *username*, *text* y *hours* serán descartados debido a que tienen un porcentaje muy pequeño respecto a la totalidad de los datos."
      ]
    },
    {
      "cell_type": "code",
      "metadata": {
        "colab": {
          "base_uri": "https://localhost:8080/"
        },
        "id": "jJaBoNwFd68A",
        "outputId": "9e558226-e033-41db-fb1b-6e1d14c56eee"
      },
      "source": [
        "#se reorganiza el dataset tomando solo las columnas relevantes\n",
        "data_reviews_1 = data_reviews[['username','product_id','text','hours']].copy()\n",
        "#se eliminan los valores faltantes\n",
        "data_reviews_1.dropna(subset=['username'], how='all', inplace=True)\n",
        "data_reviews_1.dropna(subset=['text'], how='all', inplace=True)\n",
        "data_reviews_1.dropna(subset=['hours'], how='all', inplace=True)\n",
        "#impresión de tipo de datos\n",
        "data_reviews_1.dtypes"
      ],
      "execution_count": 13,
      "outputs": [
        {
          "output_type": "execute_result",
          "data": {
            "text/plain": [
              "username       object\n",
              "product_id      int64\n",
              "text           object\n",
              "hours         float64\n",
              "dtype: object"
            ]
          },
          "metadata": {
            "tags": []
          },
          "execution_count": 13
        }
      ]
    },
    {
      "cell_type": "code",
      "metadata": {
        "colab": {
          "base_uri": "https://localhost:8080/"
        },
        "id": "DUZAUMs3J-Di",
        "outputId": "775614a6-449a-4c92-a513-0d85acd346bd"
      },
      "source": [
        "data_reviews_1.isna().sum()"
      ],
      "execution_count": 14,
      "outputs": [
        {
          "output_type": "execute_result",
          "data": {
            "text/plain": [
              "username      0\n",
              "product_id    0\n",
              "text          0\n",
              "hours         0\n",
              "dtype: int64"
            ]
          },
          "metadata": {
            "tags": []
          },
          "execution_count": 14
        }
      ]
    },
    {
      "cell_type": "markdown",
      "metadata": {
        "id": "04ed3teRWT0T"
      },
      "source": [
        "### **Games**"
      ]
    },
    {
      "cell_type": "code",
      "metadata": {
        "colab": {
          "base_uri": "https://localhost:8080/"
        },
        "id": "AwtNWaui0X8g",
        "outputId": "88582b3f-e652-4616-c44d-32234d9047fe"
      },
      "source": [
        "print(f'Nº de filas: {data_games.shape[0]}')\n",
        "print(f'Nº de columnas: {data_games.shape[1]}')"
      ],
      "execution_count": 15,
      "outputs": [
        {
          "output_type": "stream",
          "text": [
            "Nº de filas: 32135\n",
            "Nº de columnas: 16\n"
          ],
          "name": "stdout"
        }
      ]
    },
    {
      "cell_type": "code",
      "metadata": {
        "id": "sVR0Cs6SWT0b",
        "colab": {
          "base_uri": "https://localhost:8080/",
          "height": 406
        },
        "outputId": "502ddd60-f82b-49f3-d7a2-50e0f51126c9"
      },
      "source": [
        "data_games.head(3)"
      ],
      "execution_count": 16,
      "outputs": [
        {
          "output_type": "execute_result",
          "data": {
            "text/html": [
              "<div>\n",
              "<style scoped>\n",
              "    .dataframe tbody tr th:only-of-type {\n",
              "        vertical-align: middle;\n",
              "    }\n",
              "\n",
              "    .dataframe tbody tr th {\n",
              "        vertical-align: top;\n",
              "    }\n",
              "\n",
              "    .dataframe thead th {\n",
              "        text-align: right;\n",
              "    }\n",
              "</style>\n",
              "<table border=\"1\" class=\"dataframe\">\n",
              "  <thead>\n",
              "    <tr style=\"text-align: right;\">\n",
              "      <th></th>\n",
              "      <th>publisher</th>\n",
              "      <th>genres</th>\n",
              "      <th>app_name</th>\n",
              "      <th>title</th>\n",
              "      <th>url</th>\n",
              "      <th>release_date</th>\n",
              "      <th>tags</th>\n",
              "      <th>discount_price</th>\n",
              "      <th>reviews_url</th>\n",
              "      <th>specs</th>\n",
              "      <th>price</th>\n",
              "      <th>early_access</th>\n",
              "      <th>id</th>\n",
              "      <th>developer</th>\n",
              "      <th>sentiment</th>\n",
              "      <th>metascore</th>\n",
              "    </tr>\n",
              "  </thead>\n",
              "  <tbody>\n",
              "    <tr>\n",
              "      <th>0</th>\n",
              "      <td>Kotoshiro</td>\n",
              "      <td>['Action', 'Casual', 'Indie', 'Simulation', 'S...</td>\n",
              "      <td>Lost Summoner Kitty</td>\n",
              "      <td>Lost Summoner Kitty</td>\n",
              "      <td>http://store.steampowered.com/app/761140/Lost_...</td>\n",
              "      <td>2018-01-04</td>\n",
              "      <td>['Strategy', 'Action', 'Indie', 'Casual', 'Sim...</td>\n",
              "      <td>4.5</td>\n",
              "      <td>http://steamcommunity.com/app/761140/reviews/?...</td>\n",
              "      <td>['Single-player']</td>\n",
              "      <td>4.99</td>\n",
              "      <td>False</td>\n",
              "      <td>761140.0</td>\n",
              "      <td>Kotoshiro</td>\n",
              "      <td>NaN</td>\n",
              "      <td>nan</td>\n",
              "    </tr>\n",
              "    <tr>\n",
              "      <th>1</th>\n",
              "      <td>Making Fun, Inc.</td>\n",
              "      <td>['Free to Play', 'Indie', 'RPG', 'Strategy']</td>\n",
              "      <td>Ironbound</td>\n",
              "      <td>Ironbound</td>\n",
              "      <td>http://store.steampowered.com/app/643980/Ironb...</td>\n",
              "      <td>2018-01-04</td>\n",
              "      <td>['Free to Play', 'Strategy', 'Indie', 'RPG', '...</td>\n",
              "      <td>nan</td>\n",
              "      <td>http://steamcommunity.com/app/643980/reviews/?...</td>\n",
              "      <td>['Single-player', 'Multi-player', 'Online Mult...</td>\n",
              "      <td>Free To Play</td>\n",
              "      <td>False</td>\n",
              "      <td>643980.0</td>\n",
              "      <td>Secret Level SRL</td>\n",
              "      <td>Mostly Positive</td>\n",
              "      <td>nan</td>\n",
              "    </tr>\n",
              "    <tr>\n",
              "      <th>2</th>\n",
              "      <td>Poolians.com</td>\n",
              "      <td>['Casual', 'Free to Play', 'Indie', 'Simulatio...</td>\n",
              "      <td>Real Pool 3D - Poolians</td>\n",
              "      <td>Real Pool 3D - Poolians</td>\n",
              "      <td>http://store.steampowered.com/app/670290/Real_...</td>\n",
              "      <td>2017-07-24</td>\n",
              "      <td>['Free to Play', 'Simulation', 'Sports', 'Casu...</td>\n",
              "      <td>nan</td>\n",
              "      <td>http://steamcommunity.com/app/670290/reviews/?...</td>\n",
              "      <td>['Single-player', 'Multi-player', 'Online Mult...</td>\n",
              "      <td>Free to Play</td>\n",
              "      <td>False</td>\n",
              "      <td>670290.0</td>\n",
              "      <td>Poolians.com</td>\n",
              "      <td>Mostly Positive</td>\n",
              "      <td>nan</td>\n",
              "    </tr>\n",
              "  </tbody>\n",
              "</table>\n",
              "</div>"
            ],
            "text/plain": [
              "          publisher  ... metascore\n",
              "0         Kotoshiro  ...       nan\n",
              "1  Making Fun, Inc.  ...       nan\n",
              "2      Poolians.com  ...       nan\n",
              "\n",
              "[3 rows x 16 columns]"
            ]
          },
          "metadata": {
            "tags": []
          },
          "execution_count": 16
        }
      ]
    },
    {
      "cell_type": "markdown",
      "metadata": {
        "id": "4kUhrjRgla_t"
      },
      "source": [
        "**Data Games**: contiene información sobre los juegos que ofrece la plataforma. A continuación describiremos sus principales características:\n",
        "\n",
        "\n",
        "*   **publisher**: editor\n",
        "*   **genres** géneros\n",
        "*   **title / app_name**: nombre del juego\n",
        "*   **release_date**: fecha en que se comenzo a comercializar\n",
        "*   **tags**: etiquetas\n",
        "*   **specs**: características del juego\n",
        "*   **id**: identificación númerica y única del juego\n",
        "*   **developer**: desarrollador\n",
        "*   **sentiment**: asigna al juego un \"valor característico\" en función de la valoración que le pusieron los usuarios, si es más o menos valorado; también diferencia los casos en que no hay suficientes reseñas para evaluarlo.\n",
        "*   **metascore**: valoración númerica de 1 a 100, que tiene ese juego en la web www.metacritic.com "
      ]
    },
    {
      "cell_type": "markdown",
      "metadata": {
        "id": "zwLKCQKhn6Ia"
      },
      "source": [
        "Miramos las principales estadísticas de las variables numéricas"
      ]
    },
    {
      "cell_type": "code",
      "metadata": {
        "colab": {
          "base_uri": "https://localhost:8080/",
          "height": 300
        },
        "id": "eO5minZRn6Ib",
        "outputId": "ae96c458-3fd6-4c51-8d71-69097ce0b1c0"
      },
      "source": [
        "data_games.describe()"
      ],
      "execution_count": 17,
      "outputs": [
        {
          "output_type": "execute_result",
          "data": {
            "text/html": [
              "<div>\n",
              "<style scoped>\n",
              "    .dataframe tbody tr th:only-of-type {\n",
              "        vertical-align: middle;\n",
              "    }\n",
              "\n",
              "    .dataframe tbody tr th {\n",
              "        vertical-align: top;\n",
              "    }\n",
              "\n",
              "    .dataframe thead th {\n",
              "        text-align: right;\n",
              "    }\n",
              "</style>\n",
              "<table border=\"1\" class=\"dataframe\">\n",
              "  <thead>\n",
              "    <tr style=\"text-align: right;\">\n",
              "      <th></th>\n",
              "      <th>discount_price</th>\n",
              "      <th>id</th>\n",
              "      <th>metascore</th>\n",
              "    </tr>\n",
              "  </thead>\n",
              "  <tbody>\n",
              "    <tr>\n",
              "      <th>count</th>\n",
              "      <td>225.0</td>\n",
              "      <td>32133.0</td>\n",
              "      <td>2607.0</td>\n",
              "    </tr>\n",
              "    <tr>\n",
              "      <th>mean</th>\n",
              "      <td>11.9</td>\n",
              "      <td>451757.4</td>\n",
              "      <td>72.3</td>\n",
              "    </tr>\n",
              "    <tr>\n",
              "      <th>std</th>\n",
              "      <td>17.5</td>\n",
              "      <td>182714.0</td>\n",
              "      <td>10.8</td>\n",
              "    </tr>\n",
              "    <tr>\n",
              "      <th>min</th>\n",
              "      <td>0.5</td>\n",
              "      <td>10.0</td>\n",
              "      <td>20.0</td>\n",
              "    </tr>\n",
              "    <tr>\n",
              "      <th>25%</th>\n",
              "      <td>1.4</td>\n",
              "      <td>329280.0</td>\n",
              "      <td>66.0</td>\n",
              "    </tr>\n",
              "    <tr>\n",
              "      <th>50%</th>\n",
              "      <td>4.2</td>\n",
              "      <td>452060.0</td>\n",
              "      <td>74.0</td>\n",
              "    </tr>\n",
              "    <tr>\n",
              "      <th>75%</th>\n",
              "      <td>22.7</td>\n",
              "      <td>593400.0</td>\n",
              "      <td>80.0</td>\n",
              "    </tr>\n",
              "    <tr>\n",
              "      <th>max</th>\n",
              "      <td>140.0</td>\n",
              "      <td>2028850.0</td>\n",
              "      <td>96.0</td>\n",
              "    </tr>\n",
              "  </tbody>\n",
              "</table>\n",
              "</div>"
            ],
            "text/plain": [
              "       discount_price        id  metascore\n",
              "count           225.0   32133.0     2607.0\n",
              "mean             11.9  451757.4       72.3\n",
              "std              17.5  182714.0       10.8\n",
              "min               0.5      10.0       20.0\n",
              "25%               1.4  329280.0       66.0\n",
              "50%               4.2  452060.0       74.0\n",
              "75%              22.7  593400.0       80.0\n",
              "max             140.0 2028850.0       96.0"
            ]
          },
          "metadata": {
            "tags": []
          },
          "execution_count": 17
        }
      ]
    },
    {
      "cell_type": "markdown",
      "metadata": {
        "id": "ycR7NMlVGdEw"
      },
      "source": [
        "Y sus valores nulos:"
      ]
    },
    {
      "cell_type": "code",
      "metadata": {
        "colab": {
          "base_uri": "https://localhost:8080/"
        },
        "id": "UiANCQV3X6-k",
        "outputId": "1794d880-3524-4947-8380-95655701a337"
      },
      "source": [
        "data_games.isna().sum()"
      ],
      "execution_count": 18,
      "outputs": [
        {
          "output_type": "execute_result",
          "data": {
            "text/plain": [
              "publisher          8062\n",
              "genres             3283\n",
              "app_name              2\n",
              "title              2050\n",
              "url                   0\n",
              "release_date       2067\n",
              "tags                163\n",
              "discount_price    31910\n",
              "reviews_url           2\n",
              "specs               670\n",
              "price              1377\n",
              "early_access          0\n",
              "id                    2\n",
              "developer          3299\n",
              "sentiment          7182\n",
              "metascore         29528\n",
              "dtype: int64"
            ]
          },
          "metadata": {
            "tags": []
          },
          "execution_count": 18
        }
      ]
    },
    {
      "cell_type": "markdown",
      "metadata": {
        "id": "-O6L916eoXYd"
      },
      "source": [
        "* *Casi todas las Variables tienen elementos faltantes. Detallamos las principales:\n",
        "\n",
        "1.  discount_price **98%** (31.910) \n",
        "2.  metascore **98%** (29.528)  \n",
        "3.  publisher 59% c/u (8.062)  \n",
        "4.  sentiment 0,3% (7.182) \n",
        "5.  developer 0,2% (3.299)  \n",
        "6.  genres 0,2% (3.283)\n",
        "   "
      ]
    },
    {
      "cell_type": "markdown",
      "metadata": {
        "id": "yh7meS3_o7R3"
      },
      "source": [
        "El atributo **\"id\"** tiene un numero unico que representa al juego **\"title\"** o **\"app_name\"** y se corresponde con el atributo **\"product_id\"** que esta en el data_reviews donde nos representa de que juego esta haciendo la reseña el usuario.\n",
        "\n",
        "Renombramos **id**, a fin de que coincida con el dataset de Reviews donde se nombra **\"product_id\"**."
      ]
    },
    {
      "cell_type": "code",
      "metadata": {
        "id": "UNYQfO0zCwdX"
      },
      "source": [
        "data_games.rename(columns={'id':'product_id'},inplace=True)"
      ],
      "execution_count": 19,
      "outputs": []
    },
    {
      "cell_type": "markdown",
      "metadata": {
        "id": "Sv1DU0tyCf19"
      },
      "source": [
        "*¿Es mejor trabajar con app_name o con title?*"
      ]
    },
    {
      "cell_type": "code",
      "metadata": {
        "colab": {
          "base_uri": "https://localhost:8080/"
        },
        "id": "-kzZb-kjwSEI",
        "outputId": "ce9b2528-040a-4f35-f37e-b76167db8cb1"
      },
      "source": [
        "app_name=data_games['app_name'].value_counts()\n",
        "app_name"
      ],
      "execution_count": 20,
      "outputs": [
        {
          "output_type": "execute_result",
          "data": {
            "text/plain": [
              "Soundtrack                                 3\n",
              "Parasite                                   2\n",
              "Castles                                    2\n",
              "Black Rose                                 2\n",
              "Colony                                     2\n",
              "                                          ..\n",
              "Ballistic Attack                           1\n",
              "LEGO Batman                                1\n",
              "The Orphan Dreams                          1\n",
              "Doom & Destiny                             1\n",
              "RPG Maker MV - RM2K Hero Character Pack    1\n",
              "Name: app_name, Length: 32094, dtype: int64"
            ]
          },
          "metadata": {
            "tags": []
          },
          "execution_count": 20
        }
      ]
    },
    {
      "cell_type": "code",
      "metadata": {
        "colab": {
          "base_uri": "https://localhost:8080/"
        },
        "id": "ZBdTGadhwdY8",
        "outputId": "b16ba57f-3223-449d-f65e-ff32f5c5fd1d"
      },
      "source": [
        "title=data_games['title'].value_counts()\n",
        "title"
      ],
      "execution_count": 21,
      "outputs": [
        {
          "output_type": "execute_result",
          "data": {
            "text/plain": [
              "Soundtrack                                 3\n",
              "Invisible Apartment 2                      2\n",
              "Total Extreme Wrestling                    2\n",
              "Prism                                      2\n",
              "Ultimate Arena                             2\n",
              "                                          ..\n",
              "2 Ninjas 1 Cup - Soundtrack                1\n",
              "Adventures of the Worm                     1\n",
              "World of Guns: US Army Guns Pack #1        1\n",
              "Diluvion                                   1\n",
              "RPG Maker MV - RM2K Hero Character Pack    1\n",
              "Name: title, Length: 30054, dtype: int64"
            ]
          },
          "metadata": {
            "tags": []
          },
          "execution_count": 21
        }
      ]
    },
    {
      "cell_type": "code",
      "metadata": {
        "colab": {
          "base_uri": "https://localhost:8080/"
        },
        "id": "N01j2Jfrwrer",
        "outputId": "a9a638d7-3e87-4456-95b3-44d62e6dbf9e"
      },
      "source": [
        "data_games.isna().sum()"
      ],
      "execution_count": 22,
      "outputs": [
        {
          "output_type": "execute_result",
          "data": {
            "text/plain": [
              "publisher          8062\n",
              "genres             3283\n",
              "app_name              2\n",
              "title              2050\n",
              "url                   0\n",
              "release_date       2067\n",
              "tags                163\n",
              "discount_price    31910\n",
              "reviews_url           2\n",
              "specs               670\n",
              "price              1377\n",
              "early_access          0\n",
              "product_id            2\n",
              "developer          3299\n",
              "sentiment          7182\n",
              "metascore         29528\n",
              "dtype: int64"
            ]
          },
          "metadata": {
            "tags": []
          },
          "execution_count": 22
        }
      ]
    },
    {
      "cell_type": "markdown",
      "metadata": {
        "id": "_zLQy1ERwtdo"
      },
      "source": [
        "Como se puede ver para estas dos variables existen valores faltantes que serán completados.\n",
        "\n",
        "App name y title tienen la misma información, es mejor trabajar con app_name porque posee menos valores faltantes"
      ]
    },
    {
      "cell_type": "code",
      "metadata": {
        "id": "MP9fsUtDxBC1"
      },
      "source": [
        "data_games['app_name'] = data_games['app_name'].fillna(data_games['title'])\n",
        "data_games['title'] = data_games['title'].fillna(data_games['app_name'])"
      ],
      "execution_count": 23,
      "outputs": []
    },
    {
      "cell_type": "code",
      "metadata": {
        "colab": {
          "base_uri": "https://localhost:8080/"
        },
        "id": "orV-dfqVxMVT",
        "outputId": "2fb5b410-a4d2-4a5c-88ed-02cfc47879e1"
      },
      "source": [
        "data_games.isna().sum()"
      ],
      "execution_count": 24,
      "outputs": [
        {
          "output_type": "execute_result",
          "data": {
            "text/plain": [
              "publisher          8062\n",
              "genres             3283\n",
              "app_name              2\n",
              "title                 2\n",
              "url                   0\n",
              "release_date       2067\n",
              "tags                163\n",
              "discount_price    31910\n",
              "reviews_url           2\n",
              "specs               670\n",
              "price              1377\n",
              "early_access          0\n",
              "product_id            2\n",
              "developer          3299\n",
              "sentiment          7182\n",
              "metascore         29528\n",
              "dtype: int64"
            ]
          },
          "metadata": {
            "tags": []
          },
          "execution_count": 24
        }
      ]
    },
    {
      "cell_type": "markdown",
      "metadata": {
        "id": "AMiHafx6pm0g"
      },
      "source": [
        "Veamos la varible **\"sentiment\"**: por cada juego, simplifica en **\"forma categorica\"** el porcentaje de calificaciones positivas (\"dedito arriba\"), en relacion con las calificaciones negativas (\"dedito abajo\"), y el total de las reseñas o calificaciones sobre ese juego en particular. \n",
        "\n",
        "Tambien nos da informacion sobre si las reseñas sobre un juego en particular son muy escasas y por lo tanto no las caracteriza (ej: 1 users reviews, etc)."
      ]
    },
    {
      "cell_type": "code",
      "metadata": {
        "colab": {
          "base_uri": "https://localhost:8080/"
        },
        "id": "UJbgQ_-4p0zD",
        "outputId": "6e6b9de3-6595-4f2a-e906-6068416efa87"
      },
      "source": [
        "pd.unique(data_games['sentiment'])"
      ],
      "execution_count": 25,
      "outputs": [
        {
          "output_type": "execute_result",
          "data": {
            "text/plain": [
              "array([nan, 'Mostly Positive', 'Mixed', '1 user reviews',\n",
              "       '3 user reviews', '8 user reviews', 'Very Positive',\n",
              "       'Overwhelmingly Positive', '6 user reviews', '5 user reviews',\n",
              "       '2 user reviews', 'Very Negative', 'Positive', 'Mostly Negative',\n",
              "       '9 user reviews', 'Negative', '4 user reviews', '7 user reviews',\n",
              "       'Overwhelmingly Negative'], dtype=object)"
            ]
          },
          "metadata": {
            "tags": []
          },
          "execution_count": 25
        }
      ]
    },
    {
      "cell_type": "code",
      "metadata": {
        "colab": {
          "base_uri": "https://localhost:8080/"
        },
        "id": "1Ke31_dop81Y",
        "outputId": "b77ebd7c-61e0-423e-cb78-61328fbdc7e9"
      },
      "source": [
        "print(data_games['sentiment'].value_counts())"
      ],
      "execution_count": 26,
      "outputs": [
        {
          "output_type": "stream",
          "text": [
            "Mixed                      4103\n",
            "Very Positive              3868\n",
            "Positive                   3281\n",
            "Mostly Positive            2744\n",
            "1 user reviews             2496\n",
            "2 user reviews             1756\n",
            "3 user reviews             1231\n",
            "4 user reviews              964\n",
            "5 user reviews              846\n",
            "Mostly Negative             802\n",
            "6 user reviews              756\n",
            "7 user reviews              619\n",
            "8 user reviews              537\n",
            "9 user reviews              488\n",
            "Overwhelmingly Positive     303\n",
            "Negative                    123\n",
            "Very Negative                29\n",
            "Overwhelmingly Negative       7\n",
            "Name: sentiment, dtype: int64\n"
          ],
          "name": "stdout"
        }
      ]
    },
    {
      "cell_type": "code",
      "metadata": {
        "colab": {
          "base_uri": "https://localhost:8080/",
          "height": 377
        },
        "id": "jOhh34oAqUEI",
        "outputId": "86b1408f-a195-41c4-ffb8-474b85163390"
      },
      "source": [
        "plt.subplots(figsize=(15, 5))\n",
        "\n",
        "sns.countplot(data = data_games, y = 'sentiment', order = data_games['sentiment'].value_counts().index)\n",
        "plt.title('Número de Calificaciones por Tipo')\n",
        "\n",
        "plt.xlabel('Cantidad de Juegos',size=14)\n",
        "plt.ylabel('Caracterizaciones sentiment',size=14)\n",
        "plt.title(\"Cantidad de juegos por tipo de caracterizacion del Atributo sentiment\" ,size=18)"
      ],
      "execution_count": 27,
      "outputs": [
        {
          "output_type": "execute_result",
          "data": {
            "text/plain": [
              "Text(0.5, 1.0, 'Cantidad de juegos por tipo de caracterizacion del Atributo sentiment')"
            ]
          },
          "metadata": {
            "tags": []
          },
          "execution_count": 27
        },
        {
          "output_type": "display_data",
          "data": {
            "image/png": "[encoded data removed]",
            "text/plain": [
              "<Figure size 1080x360 with 1 Axes>"
            ]
          },
          "metadata": {
            "tags": []
          }
        }
      ]
    },
    {
      "cell_type": "markdown",
      "metadata": {
        "id": "ecJgiw54tCXl"
      },
      "source": [
        "*  **¿Existe alguna relación entre la valoración y la cantidad horas jugadas?**"
      ]
    },
    {
      "cell_type": "code",
      "metadata": {
        "id": "oYQdx2c0yQ63",
        "colab": {
          "base_uri": "https://localhost:8080/",
          "height": 424
        },
        "outputId": "c0f3aaab-b1e4-4071-ede6-86fe408d9500"
      },
      "source": [
        "data_reviews_1"
      ],
      "execution_count": 28,
      "outputs": [
        {
          "output_type": "execute_result",
          "data": {
            "text/html": [
              "<div>\n",
              "<style scoped>\n",
              "    .dataframe tbody tr th:only-of-type {\n",
              "        vertical-align: middle;\n",
              "    }\n",
              "\n",
              "    .dataframe tbody tr th {\n",
              "        vertical-align: top;\n",
              "    }\n",
              "\n",
              "    .dataframe thead th {\n",
              "        text-align: right;\n",
              "    }\n",
              "</style>\n",
              "<table border=\"1\" class=\"dataframe\">\n",
              "  <thead>\n",
              "    <tr style=\"text-align: right;\">\n",
              "      <th></th>\n",
              "      <th>username</th>\n",
              "      <th>product_id</th>\n",
              "      <th>text</th>\n",
              "      <th>hours</th>\n",
              "    </tr>\n",
              "  </thead>\n",
              "  <tbody>\n",
              "    <tr>\n",
              "      <th>0</th>\n",
              "      <td>Chaos Syren</td>\n",
              "      <td>725280</td>\n",
              "      <td>This would not be acceptable as an entertainme...</td>\n",
              "      <td>0.1</td>\n",
              "    </tr>\n",
              "    <tr>\n",
              "      <th>1</th>\n",
              "      <td>Ariman1</td>\n",
              "      <td>328100</td>\n",
              "      <td>Addictive RPG ! Works fine on linux though it ...</td>\n",
              "      <td>13.2</td>\n",
              "    </tr>\n",
              "    <tr>\n",
              "      <th>2</th>\n",
              "      <td>freakfantom</td>\n",
              "      <td>725280</td>\n",
              "      <td>Прикольная стрелялка. Взял дешево на распродаже.</td>\n",
              "      <td>0.1</td>\n",
              "    </tr>\n",
              "    <tr>\n",
              "      <th>3</th>\n",
              "      <td>The_Cpt_FROGGY</td>\n",
              "      <td>631920</td>\n",
              "      <td>Somewhere on Zibylon:\\n~~~~~~~~~~~~~~~~~~\\nZib...</td>\n",
              "      <td>7.8</td>\n",
              "    </tr>\n",
              "    <tr>\n",
              "      <th>4</th>\n",
              "      <td>the_maker988</td>\n",
              "      <td>35140</td>\n",
              "      <td>This game was way to linear for me, and compar...</td>\n",
              "      <td>8.2</td>\n",
              "    </tr>\n",
              "    <tr>\n",
              "      <th>...</th>\n",
              "      <td>...</td>\n",
              "      <td>...</td>\n",
              "      <td>...</td>\n",
              "      <td>...</td>\n",
              "    </tr>\n",
              "    <tr>\n",
              "      <th>779302</th>\n",
              "      <td>Vidaar</td>\n",
              "      <td>252490</td>\n",
              "      <td>Summary: Rust is a survival game created by Fa...</td>\n",
              "      <td>783.5</td>\n",
              "    </tr>\n",
              "    <tr>\n",
              "      <th>779303</th>\n",
              "      <td>Nikolai Belinski</td>\n",
              "      <td>252490</td>\n",
              "      <td>Coolest Game Eva</td>\n",
              "      <td>55.1</td>\n",
              "    </tr>\n",
              "    <tr>\n",
              "      <th>779304</th>\n",
              "      <td>RancorZealot</td>\n",
              "      <td>252490</td>\n",
              "      <td>Should you buy RUST? Uh... YES. The BEST Survi...</td>\n",
              "      <td>203.5</td>\n",
              "    </tr>\n",
              "    <tr>\n",
              "      <th>779305</th>\n",
              "      <td>Jerry</td>\n",
              "      <td>252490</td>\n",
              "      <td>Great game!</td>\n",
              "      <td>139.8</td>\n",
              "    </tr>\n",
              "    <tr>\n",
              "      <th>779306</th>\n",
              "      <td>Helk</td>\n",
              "      <td>252490</td>\n",
              "      <td>I love this game!</td>\n",
              "      <td>15375.0</td>\n",
              "    </tr>\n",
              "  </tbody>\n",
              "</table>\n",
              "<p>774825 rows × 4 columns</p>\n",
              "</div>"
            ],
            "text/plain": [
              "                username  ...   hours\n",
              "0            Chaos Syren  ...     0.1\n",
              "1                Ariman1  ...    13.2\n",
              "2            freakfantom  ...     0.1\n",
              "3         The_Cpt_FROGGY  ...     7.8\n",
              "4           the_maker988  ...     8.2\n",
              "...                  ...  ...     ...\n",
              "779302            Vidaar  ...   783.5\n",
              "779303  Nikolai Belinski  ...    55.1\n",
              "779304      RancorZealot  ...   203.5\n",
              "779305             Jerry  ...   139.8\n",
              "779306              Helk  ... 15375.0\n",
              "\n",
              "[774825 rows x 4 columns]"
            ]
          },
          "metadata": {
            "tags": []
          },
          "execution_count": 28
        }
      ]
    },
    {
      "cell_type": "code",
      "metadata": {
        "id": "AXIHdcLytOxF"
      },
      "source": [
        "data_reviews_2 = data_reviews_1.merge(data_games[['product_id','sentiment']],on='product_id')\n"
      ],
      "execution_count": 29,
      "outputs": []
    },
    {
      "cell_type": "code",
      "metadata": {
        "colab": {
          "base_uri": "https://localhost:8080/",
          "height": 1000
        },
        "id": "xX_DkMMlvfH_",
        "outputId": "0250a29b-b517-4aae-c5c0-6ac5b228d7bf"
      },
      "source": [
        "data_sentiment = data_reviews_2.groupby('sentiment').mean().sort_values(('hours'),ascending=False)\n",
        "print(data_sentiment)\n",
        "\n",
        "fig=plt.figure(figsize=(15,10))\n",
        "plt.suptitle('Boxplots Horas según Sentiment', ha='center')\n",
        "ax1=fig.add_subplot(1,2,1)\n",
        "ax2=fig.add_subplot(1,2,2)\n",
        "sns.boxplot(data = data_reviews_2, x = \"hours\",y='sentiment',showfliers=True,showmeans=True,meanprops={\"marker\":\"o\",\"markerfacecolor\":\"white\", \"markeredgecolor\":\"black\"}, ax=ax1)\n",
        "\n",
        "sns.boxplot(data = data_reviews_2, x = \"hours\",y='sentiment',showfliers=False,showmeans=True,meanprops={\"marker\":\"o\",\"markerfacecolor\":\"white\", \"markeredgecolor\":\"black\"}, ax=ax2)\n",
        "ax1.set_title(\"Horas con Outliers\",fontsize=16)\n",
        "ax2.set_title(\"Horas sin Outliers\",fontsize=16)\n",
        "ax1.set_xlabel('Hours',fontsize=16)\n",
        "#ax1.set_ylabel('',fontsize=16)\n",
        "ax2.set_xlabel('Hours',fontsize=16)\n",
        "#ax2.set_ylabel('Hours',fontsize=16)\n",
        "fig.subplots_adjust(top=0.9)\n",
        "plt.show()"
      ],
      "execution_count": 30,
      "outputs": [
        {
          "output_type": "stream",
          "text": [
            "                         product_id  hours\n",
            "sentiment                                 \n",
            "Very Positive              237229.5  126.8\n",
            "Mixed                      299846.0  118.3\n",
            "Overwhelmingly Positive    207495.6   98.3\n",
            "Mostly Positive            292535.2   84.2\n",
            "Mostly Negative            295667.5   27.5\n",
            "Positive                   434483.9   12.8\n",
            "Overwhelmingly Negative    264960.2    7.9\n",
            "9 user reviews             478101.8    7.4\n",
            "7 user reviews             440315.6    6.9\n",
            "5 user reviews             479198.0    6.4\n",
            "Very Negative              310183.6    6.0\n",
            "4 user reviews             465734.2    5.8\n",
            "1 user reviews             530103.9    5.6\n",
            "6 user reviews             461011.4    5.3\n",
            "8 user reviews             421662.6    5.1\n",
            "2 user reviews             506500.7    3.7\n",
            "3 user reviews             507954.1    3.6\n",
            "Negative                   361374.2    3.1\n"
          ],
          "name": "stdout"
        },
        {
          "output_type": "display_data",
          "data": {
            "image/png": "[encoded data removed]",
            "text/plain": [
              "<Figure size 1080x720 with 2 Axes>"
            ]
          },
          "metadata": {
            "tags": []
          }
        }
      ]
    },
    {
      "cell_type": "markdown",
      "metadata": {
        "id": "_7oI6PyJwCeT"
      },
      "source": [
        "No existen diferencias significativas en cuanto a la cantidad de horas jugadas con valoraciones positivas y valoraciones negativas, por lo que la variable sentiment no será considerada. \n",
        "\n"
      ]
    },
    {
      "cell_type": "markdown",
      "metadata": {
        "id": "u6gHN_4IZE3q"
      },
      "source": [
        "- Seleccionamos aquellos features que nos seran útiles a la hora de realizar las predicciones.\n",
        "\n",
        "- Nos serán útiles las columnas de title, para poder identificar el nombre de los juegos, y del id de los juegos, para realizar el cruce de datos con Data Reviews, donde los juegos estan identificados con el id."
      ]
    },
    {
      "cell_type": "code",
      "metadata": {
        "colab": {
          "base_uri": "https://localhost:8080/",
          "height": 424
        },
        "id": "SXVHAnHtBsc7",
        "outputId": "d12dc09c-b9e6-4461-ab5a-ae6b29a22b15"
      },
      "source": [
        "data_games_1 = data_games[['title','product_id']].copy()\n",
        "data_games_1 "
      ],
      "execution_count": 31,
      "outputs": [
        {
          "output_type": "execute_result",
          "data": {
            "text/html": [
              "<div>\n",
              "<style scoped>\n",
              "    .dataframe tbody tr th:only-of-type {\n",
              "        vertical-align: middle;\n",
              "    }\n",
              "\n",
              "    .dataframe tbody tr th {\n",
              "        vertical-align: top;\n",
              "    }\n",
              "\n",
              "    .dataframe thead th {\n",
              "        text-align: right;\n",
              "    }\n",
              "</style>\n",
              "<table border=\"1\" class=\"dataframe\">\n",
              "  <thead>\n",
              "    <tr style=\"text-align: right;\">\n",
              "      <th></th>\n",
              "      <th>title</th>\n",
              "      <th>product_id</th>\n",
              "    </tr>\n",
              "  </thead>\n",
              "  <tbody>\n",
              "    <tr>\n",
              "      <th>0</th>\n",
              "      <td>Lost Summoner Kitty</td>\n",
              "      <td>761140.0</td>\n",
              "    </tr>\n",
              "    <tr>\n",
              "      <th>1</th>\n",
              "      <td>Ironbound</td>\n",
              "      <td>643980.0</td>\n",
              "    </tr>\n",
              "    <tr>\n",
              "      <th>2</th>\n",
              "      <td>Real Pool 3D - Poolians</td>\n",
              "      <td>670290.0</td>\n",
              "    </tr>\n",
              "    <tr>\n",
              "      <th>3</th>\n",
              "      <td>弹炸人2222</td>\n",
              "      <td>767400.0</td>\n",
              "    </tr>\n",
              "    <tr>\n",
              "      <th>4</th>\n",
              "      <td>Log Challenge</td>\n",
              "      <td>773570.0</td>\n",
              "    </tr>\n",
              "    <tr>\n",
              "      <th>...</th>\n",
              "      <td>...</td>\n",
              "      <td>...</td>\n",
              "    </tr>\n",
              "    <tr>\n",
              "      <th>32130</th>\n",
              "      <td>Colony On Mars</td>\n",
              "      <td>773640.0</td>\n",
              "    </tr>\n",
              "    <tr>\n",
              "      <th>32131</th>\n",
              "      <td>LOGistICAL: South Africa</td>\n",
              "      <td>733530.0</td>\n",
              "    </tr>\n",
              "    <tr>\n",
              "      <th>32132</th>\n",
              "      <td>Russian Roads</td>\n",
              "      <td>610660.0</td>\n",
              "    </tr>\n",
              "    <tr>\n",
              "      <th>32133</th>\n",
              "      <td>EXIT 2 - Directions</td>\n",
              "      <td>658870.0</td>\n",
              "    </tr>\n",
              "    <tr>\n",
              "      <th>32134</th>\n",
              "      <td>Maze Run VR</td>\n",
              "      <td>681550.0</td>\n",
              "    </tr>\n",
              "  </tbody>\n",
              "</table>\n",
              "<p>32135 rows × 2 columns</p>\n",
              "</div>"
            ],
            "text/plain": [
              "                          title  product_id\n",
              "0           Lost Summoner Kitty    761140.0\n",
              "1                     Ironbound    643980.0\n",
              "2       Real Pool 3D - Poolians    670290.0\n",
              "3                       弹炸人2222    767400.0\n",
              "4                 Log Challenge    773570.0\n",
              "...                         ...         ...\n",
              "32130            Colony On Mars    773640.0\n",
              "32131  LOGistICAL: South Africa    733530.0\n",
              "32132             Russian Roads    610660.0\n",
              "32133       EXIT 2 - Directions    658870.0\n",
              "32134               Maze Run VR    681550.0\n",
              "\n",
              "[32135 rows x 2 columns]"
            ]
          },
          "metadata": {
            "tags": []
          },
          "execution_count": 31
        }
      ]
    },
    {
      "cell_type": "markdown",
      "metadata": {
        "id": "ABDO4wVnHJow"
      },
      "source": [
        "**Valores nulos**"
      ]
    },
    {
      "cell_type": "code",
      "metadata": {
        "colab": {
          "base_uri": "https://localhost:8080/"
        },
        "id": "P9-UYlRlGHMM",
        "outputId": "1c113447-8889-40cc-8a87-87ed363ca2ec"
      },
      "source": [
        "data_games_1.isnull().sum()"
      ],
      "execution_count": 32,
      "outputs": [
        {
          "output_type": "execute_result",
          "data": {
            "text/plain": [
              "title         2\n",
              "product_id    2\n",
              "dtype: int64"
            ]
          },
          "metadata": {
            "tags": []
          },
          "execution_count": 32
        }
      ]
    },
    {
      "cell_type": "markdown",
      "metadata": {
        "id": "euONnCzuGr1R"
      },
      "source": [
        "* *Variables con elementos faltantes:*  \n",
        "\n",
        "1. *title* **0.006%%** (2)\n",
        "2. *product_id* **0.006%** (2)\n"
      ]
    },
    {
      "cell_type": "markdown",
      "metadata": {
        "id": "QLFegQYBGM2Z"
      },
      "source": [
        "Los datos nulos serán descartados debido a que tienen un porcentaje muy pequeño respecto a la totalidad de los datos."
      ]
    },
    {
      "cell_type": "code",
      "metadata": {
        "id": "srlit9cbHcOg"
      },
      "source": [
        "data_games_1 = data_games_1.dropna()"
      ],
      "execution_count": 33,
      "outputs": []
    },
    {
      "cell_type": "code",
      "metadata": {
        "colab": {
          "base_uri": "https://localhost:8080/",
          "height": 424
        },
        "id": "gfkJkF9CHkKM",
        "outputId": "39606b55-505b-45cf-9284-b9206f7e3ff7"
      },
      "source": [
        "data_games_1.isnull().sum()\n",
        "data_games_1"
      ],
      "execution_count": 34,
      "outputs": [
        {
          "output_type": "execute_result",
          "data": {
            "text/html": [
              "<div>\n",
              "<style scoped>\n",
              "    .dataframe tbody tr th:only-of-type {\n",
              "        vertical-align: middle;\n",
              "    }\n",
              "\n",
              "    .dataframe tbody tr th {\n",
              "        vertical-align: top;\n",
              "    }\n",
              "\n",
              "    .dataframe thead th {\n",
              "        text-align: right;\n",
              "    }\n",
              "</style>\n",
              "<table border=\"1\" class=\"dataframe\">\n",
              "  <thead>\n",
              "    <tr style=\"text-align: right;\">\n",
              "      <th></th>\n",
              "      <th>title</th>\n",
              "      <th>product_id</th>\n",
              "    </tr>\n",
              "  </thead>\n",
              "  <tbody>\n",
              "    <tr>\n",
              "      <th>0</th>\n",
              "      <td>Lost Summoner Kitty</td>\n",
              "      <td>761140.0</td>\n",
              "    </tr>\n",
              "    <tr>\n",
              "      <th>1</th>\n",
              "      <td>Ironbound</td>\n",
              "      <td>643980.0</td>\n",
              "    </tr>\n",
              "    <tr>\n",
              "      <th>2</th>\n",
              "      <td>Real Pool 3D - Poolians</td>\n",
              "      <td>670290.0</td>\n",
              "    </tr>\n",
              "    <tr>\n",
              "      <th>3</th>\n",
              "      <td>弹炸人2222</td>\n",
              "      <td>767400.0</td>\n",
              "    </tr>\n",
              "    <tr>\n",
              "      <th>4</th>\n",
              "      <td>Log Challenge</td>\n",
              "      <td>773570.0</td>\n",
              "    </tr>\n",
              "    <tr>\n",
              "      <th>...</th>\n",
              "      <td>...</td>\n",
              "      <td>...</td>\n",
              "    </tr>\n",
              "    <tr>\n",
              "      <th>32130</th>\n",
              "      <td>Colony On Mars</td>\n",
              "      <td>773640.0</td>\n",
              "    </tr>\n",
              "    <tr>\n",
              "      <th>32131</th>\n",
              "      <td>LOGistICAL: South Africa</td>\n",
              "      <td>733530.0</td>\n",
              "    </tr>\n",
              "    <tr>\n",
              "      <th>32132</th>\n",
              "      <td>Russian Roads</td>\n",
              "      <td>610660.0</td>\n",
              "    </tr>\n",
              "    <tr>\n",
              "      <th>32133</th>\n",
              "      <td>EXIT 2 - Directions</td>\n",
              "      <td>658870.0</td>\n",
              "    </tr>\n",
              "    <tr>\n",
              "      <th>32134</th>\n",
              "      <td>Maze Run VR</td>\n",
              "      <td>681550.0</td>\n",
              "    </tr>\n",
              "  </tbody>\n",
              "</table>\n",
              "<p>32132 rows × 2 columns</p>\n",
              "</div>"
            ],
            "text/plain": [
              "                          title  product_id\n",
              "0           Lost Summoner Kitty    761140.0\n",
              "1                     Ironbound    643980.0\n",
              "2       Real Pool 3D - Poolians    670290.0\n",
              "3                       弹炸人2222    767400.0\n",
              "4                 Log Challenge    773570.0\n",
              "...                         ...         ...\n",
              "32130            Colony On Mars    773640.0\n",
              "32131  LOGistICAL: South Africa    733530.0\n",
              "32132             Russian Roads    610660.0\n",
              "32133       EXIT 2 - Directions    658870.0\n",
              "32134               Maze Run VR    681550.0\n",
              "\n",
              "[32132 rows x 2 columns]"
            ]
          },
          "metadata": {
            "tags": []
          },
          "execution_count": 34
        }
      ]
    },
    {
      "cell_type": "markdown",
      "metadata": {
        "id": "gC3Hc-PE__kP"
      },
      "source": [
        "**Indexacion**\n",
        "\n",
        "Indexamos **product_id** a fin de poder realizar un mejor cruce con el Dataset de Reviews"
      ]
    },
    {
      "cell_type": "code",
      "metadata": {
        "colab": {
          "base_uri": "https://localhost:8080/"
        },
        "id": "LuQmPiukAs8w",
        "outputId": "1378974e-b11e-4174-e980-74e954a67734"
      },
      "source": [
        "data_games_1.dtypes"
      ],
      "execution_count": 35,
      "outputs": [
        {
          "output_type": "execute_result",
          "data": {
            "text/plain": [
              "title          object\n",
              "product_id    float64\n",
              "dtype: object"
            ]
          },
          "metadata": {
            "tags": []
          },
          "execution_count": 35
        }
      ]
    },
    {
      "cell_type": "markdown",
      "metadata": {
        "id": "1Sj9qeP_A5yK"
      },
      "source": [
        "El tipo de dato debe ser entero para **product_id**, para poder realizar la indexación"
      ]
    },
    {
      "cell_type": "code",
      "metadata": {
        "id": "kPLZIIl-BCQu"
      },
      "source": [
        "data_games_1[('product_id')] = data_games_1['product_id'].astype(int)"
      ],
      "execution_count": null,
      "outputs": []
    },
    {
      "cell_type": "code",
      "metadata": {
        "colab": {
          "base_uri": "https://localhost:8080/",
          "height": 454
        },
        "id": "kxR5E078Hq5g",
        "outputId": "1aecfd8c-fc55-4edb-c992-8a0d752725d5"
      },
      "source": [
        "data_games_modelo = data_games_1.set_index('product_id', drop=True)\n",
        "data_games_modelo"
      ],
      "execution_count": 37,
      "outputs": [
        {
          "output_type": "execute_result",
          "data": {
            "text/html": [
              "<div>\n",
              "<style scoped>\n",
              "    .dataframe tbody tr th:only-of-type {\n",
              "        vertical-align: middle;\n",
              "    }\n",
              "\n",
              "    .dataframe tbody tr th {\n",
              "        vertical-align: top;\n",
              "    }\n",
              "\n",
              "    .dataframe thead th {\n",
              "        text-align: right;\n",
              "    }\n",
              "</style>\n",
              "<table border=\"1\" class=\"dataframe\">\n",
              "  <thead>\n",
              "    <tr style=\"text-align: right;\">\n",
              "      <th></th>\n",
              "      <th>title</th>\n",
              "    </tr>\n",
              "    <tr>\n",
              "      <th>product_id</th>\n",
              "      <th></th>\n",
              "    </tr>\n",
              "  </thead>\n",
              "  <tbody>\n",
              "    <tr>\n",
              "      <th>761140</th>\n",
              "      <td>Lost Summoner Kitty</td>\n",
              "    </tr>\n",
              "    <tr>\n",
              "      <th>643980</th>\n",
              "      <td>Ironbound</td>\n",
              "    </tr>\n",
              "    <tr>\n",
              "      <th>670290</th>\n",
              "      <td>Real Pool 3D - Poolians</td>\n",
              "    </tr>\n",
              "    <tr>\n",
              "      <th>767400</th>\n",
              "      <td>弹炸人2222</td>\n",
              "    </tr>\n",
              "    <tr>\n",
              "      <th>773570</th>\n",
              "      <td>Log Challenge</td>\n",
              "    </tr>\n",
              "    <tr>\n",
              "      <th>...</th>\n",
              "      <td>...</td>\n",
              "    </tr>\n",
              "    <tr>\n",
              "      <th>773640</th>\n",
              "      <td>Colony On Mars</td>\n",
              "    </tr>\n",
              "    <tr>\n",
              "      <th>733530</th>\n",
              "      <td>LOGistICAL: South Africa</td>\n",
              "    </tr>\n",
              "    <tr>\n",
              "      <th>610660</th>\n",
              "      <td>Russian Roads</td>\n",
              "    </tr>\n",
              "    <tr>\n",
              "      <th>658870</th>\n",
              "      <td>EXIT 2 - Directions</td>\n",
              "    </tr>\n",
              "    <tr>\n",
              "      <th>681550</th>\n",
              "      <td>Maze Run VR</td>\n",
              "    </tr>\n",
              "  </tbody>\n",
              "</table>\n",
              "<p>32132 rows × 1 columns</p>\n",
              "</div>"
            ],
            "text/plain": [
              "                               title\n",
              "product_id                          \n",
              "761140           Lost Summoner Kitty\n",
              "643980                     Ironbound\n",
              "670290       Real Pool 3D - Poolians\n",
              "767400                       弹炸人2222\n",
              "773570                 Log Challenge\n",
              "...                              ...\n",
              "773640                Colony On Mars\n",
              "733530      LOGistICAL: South Africa\n",
              "610660                 Russian Roads\n",
              "658870           EXIT 2 - Directions\n",
              "681550                   Maze Run VR\n",
              "\n",
              "[32132 rows x 1 columns]"
            ]
          },
          "metadata": {
            "tags": []
          },
          "execution_count": 37
        }
      ]
    },
    {
      "cell_type": "code",
      "metadata": {
        "colab": {
          "base_uri": "https://localhost:8080/"
        },
        "id": "1CKNuLyXH3d0",
        "outputId": "7b7257f8-2fd3-476c-cf0b-9c3c0c6ac9d3"
      },
      "source": [
        "data_games_modelo.dtypes"
      ],
      "execution_count": 38,
      "outputs": [
        {
          "output_type": "execute_result",
          "data": {
            "text/plain": [
              "title    object\n",
              "dtype: object"
            ]
          },
          "metadata": {
            "tags": []
          },
          "execution_count": 38
        }
      ]
    },
    {
      "cell_type": "markdown",
      "metadata": {
        "id": "769jqAHgH7Qp"
      },
      "source": [
        "El tipo de dato de pruduct_id y title resultan ser object, siendo acorde para llevar a cabo nuestras recomendaciones a posteriori."
      ]
    },
    {
      "cell_type": "markdown",
      "metadata": {
        "id": "F7RBZl97r5uA"
      },
      "source": [
        "### **Preguntas**"
      ]
    },
    {
      "cell_type": "markdown",
      "metadata": {
        "id": "r2B2ZqRxXCmP"
      },
      "source": [
        "*  **¿Cuántos usuarios únicos hay?**"
      ]
    },
    {
      "cell_type": "code",
      "metadata": {
        "colab": {
          "base_uri": "https://localhost:8080/"
        },
        "id": "2twPqpikXCFu",
        "outputId": "f00c111f-863e-4fcb-ecd5-50cb2d9444ac"
      },
      "source": [
        "print(len(data_reviews_1['username'].unique()))"
      ],
      "execution_count": 39,
      "outputs": [
        {
          "output_type": "stream",
          "text": [
            "538238\n"
          ],
          "name": "stdout"
        }
      ]
    },
    {
      "cell_type": "markdown",
      "metadata": {
        "id": "0ZN0QA-UZOj5"
      },
      "source": [
        "*   **¿Cuántas calificaciones hay?**"
      ]
    },
    {
      "cell_type": "code",
      "metadata": {
        "colab": {
          "base_uri": "https://localhost:8080/"
        },
        "id": "d_TsLAqoZTBt",
        "outputId": "c8572c4e-66c8-4d21-a4b7-4c329990e7ad"
      },
      "source": [
        "print(data_reviews_1.shape[0])"
      ],
      "execution_count": 40,
      "outputs": [
        {
          "output_type": "stream",
          "text": [
            "774825\n"
          ],
          "name": "stdout"
        }
      ]
    },
    {
      "cell_type": "markdown",
      "metadata": {
        "id": "q6Ue8SfivQRS"
      },
      "source": [
        "*  **¿Cuántos juegos hay?**"
      ]
    },
    {
      "cell_type": "code",
      "metadata": {
        "colab": {
          "base_uri": "https://localhost:8080/"
        },
        "id": "-dyudAHzvPmj",
        "outputId": "f13bf1aa-8df9-4ff0-c690-5cdb62f6745d"
      },
      "source": [
        "print(data_games_modelo.shape[0])"
      ],
      "execution_count": 41,
      "outputs": [
        {
          "output_type": "stream",
          "text": [
            "32132\n"
          ],
          "name": "stdout"
        }
      ]
    },
    {
      "cell_type": "markdown",
      "metadata": {
        "id": "gVMPb6F2V0zm"
      },
      "source": [
        "*  **¿Cuántos juegos calificó cada usuario?**"
      ]
    },
    {
      "cell_type": "code",
      "metadata": {
        "colab": {
          "base_uri": "https://localhost:8080/"
        },
        "id": "raowCUezV8dD",
        "outputId": "c1ef1ff6-4c17-49b1-a4e5-770060accb50"
      },
      "source": [
        "reviews_por_usuario = data_reviews_1.username.value_counts()\n",
        "print(reviews_por_usuario)"
      ],
      "execution_count": 42,
      "outputs": [
        {
          "output_type": "stream",
          "text": [
            "123                           213\n",
            "Alex                          189\n",
            "Chris                         153\n",
            "Nick                          142\n",
            "Matt                          137\n",
            "                             ... \n",
            "Sir WeaverKill Of Catarina      1\n",
            "RapEtoHustle                    1\n",
            "Stephan /S/                     1\n",
            "Prof. Konjux                    1\n",
            "vtrust94                        1\n",
            "Name: username, Length: 538238, dtype: int64\n"
          ],
          "name": "stdout"
        }
      ]
    },
    {
      "cell_type": "markdown",
      "metadata": {
        "id": "wyYghbVzXfQ2"
      },
      "source": [
        "Veamos cómo es la distribución de las calificaciones por usuario"
      ]
    },
    {
      "cell_type": "code",
      "metadata": {
        "colab": {
          "base_uri": "https://localhost:8080/",
          "height": 301
        },
        "id": "WnJEl41_Xqqo",
        "outputId": "d11731e2-1453-478f-cea7-1f8b010e785f"
      },
      "source": [
        "plt.hist(reviews_por_usuario, log=True)\n",
        "\n",
        "plt.xlabel('Cantidad de Calificaciones')\n",
        "plt.ylabel('Cantidad de Usuarios')\n",
        "plt.title('Cantidad de Calificaciones por Usuarios')\n",
        "plt.show()"
      ],
      "execution_count": 43,
      "outputs": [
        {
          "output_type": "display_data",
          "data": {
            "image/png": "[encoded data removed]",
            "text/plain": [
              "<Figure size 432x288 with 1 Axes>"
            ]
          },
          "metadata": {
            "tags": []
          }
        }
      ]
    },
    {
      "cell_type": "markdown",
      "metadata": {
        "id": "QCQoqHPBes2T"
      },
      "source": [
        "Observando el gráfico la mayoría de los juegos no superan los 200 usuarios. "
      ]
    },
    {
      "cell_type": "markdown",
      "metadata": {
        "id": "O1ytT75UaZEd"
      },
      "source": [
        "*  **¿Cuántos juegos fueron calificados?**"
      ]
    },
    {
      "cell_type": "code",
      "metadata": {
        "colab": {
          "base_uri": "https://localhost:8080/"
        },
        "id": "ggxOvvA_agqH",
        "outputId": "b79e8fa3-10c5-4285-b6c0-743bc650a0fe"
      },
      "source": [
        "print(len(data_reviews_1['product_id'].unique()))"
      ],
      "execution_count": 44,
      "outputs": [
        {
          "output_type": "stream",
          "text": [
            "12612\n"
          ],
          "name": "stdout"
        }
      ]
    },
    {
      "cell_type": "markdown",
      "metadata": {
        "id": "vAgp1TM1a1SM"
      },
      "source": [
        "*  **¿cuáles son los juegos más populares?¿Y los menos populares?**"
      ]
    },
    {
      "cell_type": "markdown",
      "metadata": {
        "id": "5ZuJsKD8RnV_"
      },
      "source": [
        "- Se eliminan aquellos valores que se encuentran duplicados en product_id, ya que sólo puede haber 1 juego con el mismo Id."
      ]
    },
    {
      "cell_type": "code",
      "metadata": {
        "colab": {
          "base_uri": "https://localhost:8080/",
          "height": 454
        },
        "id": "1rRaZ7pRRqub",
        "outputId": "c6c79e72-edd5-4256-866c-ef9aec68a1d8"
      },
      "source": [
        "data_games_modelo = data_games_modelo[~data_games_modelo.index.duplicated(keep='first')]\n",
        "data_games_modelo"
      ],
      "execution_count": 45,
      "outputs": [
        {
          "output_type": "execute_result",
          "data": {
            "text/html": [
              "<div>\n",
              "<style scoped>\n",
              "    .dataframe tbody tr th:only-of-type {\n",
              "        vertical-align: middle;\n",
              "    }\n",
              "\n",
              "    .dataframe tbody tr th {\n",
              "        vertical-align: top;\n",
              "    }\n",
              "\n",
              "    .dataframe thead th {\n",
              "        text-align: right;\n",
              "    }\n",
              "</style>\n",
              "<table border=\"1\" class=\"dataframe\">\n",
              "  <thead>\n",
              "    <tr style=\"text-align: right;\">\n",
              "      <th></th>\n",
              "      <th>title</th>\n",
              "    </tr>\n",
              "    <tr>\n",
              "      <th>product_id</th>\n",
              "      <th></th>\n",
              "    </tr>\n",
              "  </thead>\n",
              "  <tbody>\n",
              "    <tr>\n",
              "      <th>761140</th>\n",
              "      <td>Lost Summoner Kitty</td>\n",
              "    </tr>\n",
              "    <tr>\n",
              "      <th>643980</th>\n",
              "      <td>Ironbound</td>\n",
              "    </tr>\n",
              "    <tr>\n",
              "      <th>670290</th>\n",
              "      <td>Real Pool 3D - Poolians</td>\n",
              "    </tr>\n",
              "    <tr>\n",
              "      <th>767400</th>\n",
              "      <td>弹炸人2222</td>\n",
              "    </tr>\n",
              "    <tr>\n",
              "      <th>773570</th>\n",
              "      <td>Log Challenge</td>\n",
              "    </tr>\n",
              "    <tr>\n",
              "      <th>...</th>\n",
              "      <td>...</td>\n",
              "    </tr>\n",
              "    <tr>\n",
              "      <th>773640</th>\n",
              "      <td>Colony On Mars</td>\n",
              "    </tr>\n",
              "    <tr>\n",
              "      <th>733530</th>\n",
              "      <td>LOGistICAL: South Africa</td>\n",
              "    </tr>\n",
              "    <tr>\n",
              "      <th>610660</th>\n",
              "      <td>Russian Roads</td>\n",
              "    </tr>\n",
              "    <tr>\n",
              "      <th>658870</th>\n",
              "      <td>EXIT 2 - Directions</td>\n",
              "    </tr>\n",
              "    <tr>\n",
              "      <th>681550</th>\n",
              "      <td>Maze Run VR</td>\n",
              "    </tr>\n",
              "  </tbody>\n",
              "</table>\n",
              "<p>32131 rows × 1 columns</p>\n",
              "</div>"
            ],
            "text/plain": [
              "                               title\n",
              "product_id                          \n",
              "761140           Lost Summoner Kitty\n",
              "643980                     Ironbound\n",
              "670290       Real Pool 3D - Poolians\n",
              "767400                       弹炸人2222\n",
              "773570                 Log Challenge\n",
              "...                              ...\n",
              "773640                Colony On Mars\n",
              "733530      LOGistICAL: South Africa\n",
              "610660                 Russian Roads\n",
              "658870           EXIT 2 - Directions\n",
              "681550                   Maze Run VR\n",
              "\n",
              "[32131 rows x 1 columns]"
            ]
          },
          "metadata": {
            "tags": []
          },
          "execution_count": 45
        }
      ]
    },
    {
      "cell_type": "code",
      "metadata": {
        "colab": {
          "base_uri": "https://localhost:8080/"
        },
        "id": "L7DCknaKQwIH",
        "outputId": "b7a41c11-2414-44b1-a2a4-02a0dd7c2c96"
      },
      "source": [
        "games_jugados = data_reviews_1.product_id.value_counts()\n",
        "games_jugados.index = data_games_modelo.loc[games_jugados.index].title\n",
        "games_jugados"
      ],
      "execution_count": 46,
      "outputs": [
        {
          "output_type": "execute_result",
          "data": {
            "text/plain": [
              "title\n",
              "Team Fortress 2                       18334\n",
              "Rust                                  10204\n",
              "Borderlands 2                          7299\n",
              "Fallout 4                              7094\n",
              "Grand Theft Auto V                     5962\n",
              "                                      ...  \n",
              "German Fortress 3D                        1\n",
              "Singularity Roller                        1\n",
              "The Adventures of Capitano Navarro        1\n",
              "The Forgotten Forest                      1\n",
              "Navalia                                   1\n",
              "Name: product_id, Length: 12612, dtype: int64"
            ]
          },
          "metadata": {
            "tags": []
          },
          "execution_count": 46
        }
      ]
    },
    {
      "cell_type": "markdown",
      "metadata": {
        "id": "AlHQztOKSMdW"
      },
      "source": [
        "El juego con mayor cantidad de reviewa es Team Fortress con 18334 calificaciones.\n",
        "\n",
        "Algunos de los juegos con 1 sola reseña son:  \n",
        "German Fortress 3D,                        \n",
        "Singularity Roller,                       \n",
        "The Adventures of Capitano Navarro,        \n",
        "The Forgotten Forest,                      \n",
        "Navalia.                     "
      ]
    },
    {
      "cell_type": "markdown",
      "metadata": {
        "id": "6xstWP6rVlCX"
      },
      "source": [
        "*   **¿Cuántas horas jugó cada usuario al comentar?**"
      ]
    },
    {
      "cell_type": "code",
      "metadata": {
        "colab": {
          "base_uri": "https://localhost:8080/"
        },
        "id": "j6RAl-rrVpPR",
        "outputId": "715ba497-6aff-4bd7-9846-45c8a045a24d"
      },
      "source": [
        "data_reviews_1.hours.describe()"
      ],
      "execution_count": 47,
      "outputs": [
        {
          "output_type": "execute_result",
          "data": {
            "text/plain": [
              "count   774825.0\n",
              "mean       111.9\n",
              "std        390.2\n",
              "min          0.0\n",
              "25%          4.0\n",
              "50%         15.3\n",
              "75%         59.7\n",
              "max      28164.0\n",
              "Name: hours, dtype: float64"
            ]
          },
          "metadata": {
            "tags": []
          },
          "execution_count": 47
        }
      ]
    },
    {
      "cell_type": "code",
      "metadata": {
        "colab": {
          "base_uri": "https://localhost:8080/"
        },
        "id": "W53dMa4ufVL5",
        "outputId": "3447df61-0317-4204-cc77-bd0e7c50bb5d"
      },
      "source": [
        "reviews_por_horas = data_reviews_1.hours.value_counts()\n",
        "print(reviews_por_horas)"
      ],
      "execution_count": 48,
      "outputs": [
        {
          "output_type": "stream",
          "text": [
            "0.2       11269\n",
            "0.3        9489\n",
            "0.1        9191\n",
            "0.4        8589\n",
            "0.5        8274\n",
            "          ...  \n",
            "1595.0        1\n",
            "2222.2        1\n",
            "3805.1        1\n",
            "3575.0        1\n",
            "5484.6        1\n",
            "Name: hours, Length: 21739, dtype: int64\n"
          ],
          "name": "stdout"
        }
      ]
    },
    {
      "cell_type": "code",
      "metadata": {
        "colab": {
          "base_uri": "https://localhost:8080/",
          "height": 377
        },
        "id": "21N7Yd6UV2_1",
        "outputId": "67682eed-bc6b-48be-cc80-3eddcf249b58"
      },
      "source": [
        "fig=plt.figure(figsize=(15,5))\n",
        "plt.suptitle('Horas de juego al comentar',fontsize=20, ha='center')\n",
        "ax1=fig.add_subplot(1,2,1)\n",
        "ax2=fig.add_subplot(1,2,2)\n",
        "sns.boxplot(data = data_reviews_1,x='hours',showfliers=True,showmeans=True,meanprops={\"marker\":\"o\",\"markerfacecolor\":\"white\", \"markeredgecolor\":\"black\"}, ax=ax1)\n",
        "\n",
        "sns.boxplot(data = data_reviews_1,x='hours',showfliers=False,showmeans=True,meanprops={\"marker\":\"o\",\"markerfacecolor\":\"white\", \"markeredgecolor\":\"black\"}, ax=ax2)\n",
        "ax1.set_title(\"Hours con Outliers\",fontsize=16)\n",
        "ax2.set_title(\"Hours sin Outliers\",fontsize=16)\n",
        "ax1.set_xlabel('Hours',fontsize=16)\n",
        "#ax1.set_ylabel('Rooms',fontsize=16)\n",
        "ax2.set_xlabel('Hours',fontsize=16)\n",
        "#ax2.set_ylabel('Rooms',fontsize=16)\n",
        "fig.subplots_adjust(top=0.8)\n",
        "plt.show()"
      ],
      "execution_count": 49,
      "outputs": [
        {
          "output_type": "display_data",
          "data": {
            "image/png": "[encoded data removed]",
            "text/plain": [
              "<Figure size 1080x360 with 2 Axes>"
            ]
          },
          "metadata": {
            "tags": []
          }
        }
      ]
    },
    {
      "cell_type": "markdown",
      "metadata": {
        "id": "X2lqJtSNWQY6"
      },
      "source": [
        "La mediana indica que los usuarios jugaron 15.3 horas a la hora de realizar los comentarios. Este valor puede resultar más representativo que el promedio dado que la distribución tiene una marcada cola hacia la derecha."
      ]
    },
    {
      "cell_type": "code",
      "metadata": {
        "colab": {
          "base_uri": "https://localhost:8080/",
          "height": 301
        },
        "id": "MeLhmQKYfDEf",
        "outputId": "62ab3966-9d2e-4899-801d-2bd7ee827b56"
      },
      "source": [
        "plt.hist(reviews_por_horas, log=True, bins = 30)\n",
        "\n",
        "plt.xlabel('Cantidad de usuarios')\n",
        "plt.ylabel('Cantidad de horas ugadas')\n",
        "plt.title('Cantidad de horas jugadas por Usuarios')\n",
        "plt.show()"
      ],
      "execution_count": 50,
      "outputs": [
        {
          "output_type": "display_data",
          "data": {
            "image/png": "[encoded data removed]",
            "text/plain": [
              "<Figure size 432x288 with 1 Axes>"
            ]
          },
          "metadata": {
            "tags": []
          }
        }
      ]
    },
    {
      "cell_type": "markdown",
      "metadata": {
        "id": "GWS7Fa4igBXZ"
      },
      "source": [
        "Hay una gran cantidad de usuarios que jugaron menos de 1 hora, que se puede considerar un tiempo suficiente para categorizar al usuario como que jugo el juego."
      ]
    },
    {
      "cell_type": "markdown",
      "metadata": {
        "id": "wEH0DreTyK43"
      },
      "source": [
        "### **Dataset para el modelo**"
      ]
    },
    {
      "cell_type": "markdown",
      "metadata": {
        "id": "ZmWtH0GJ0kPb"
      },
      "source": [
        "**Análisis d la información**\n",
        " \n",
        "**En el Dataset Reviews**, solo tenemeos un atributo númerico \"hours\" el cual podemos utilizar como target, utilizandolo como indicador de satisfacción o preferencia del usuario con un juego. A mayor hs de juego, mayor seria la calificacion de ese usuario sobre ese juego.\n",
        "\n",
        "Otro indicador que podría usarse es \"text\" con la crítica del usuario sobre el juego y transformarlo en un valor númerico de satisfacción utilizando NLP: Procesamiento de Lenguaje Natural. Pero por el momento, no utilizaremos esta técnica.\n",
        "     \n",
        "Por lo tanto, asumimos que el tiempo de juego **\"hours\"** es una parte muy importante de los intereses del usuario y la utilizaremos como clasificacion (rating)."
      ]
    },
    {
      "cell_type": "markdown",
      "metadata": {
        "id": "CTHULpZn8v_M"
      },
      "source": [
        "*  **Seleccionamos las variables que nos serán útiles para realizar las predicciones**"
      ]
    },
    {
      "cell_type": "code",
      "metadata": {
        "colab": {
          "base_uri": "https://localhost:8080/",
          "height": 424
        },
        "id": "TL936FICYi4X",
        "outputId": "378c3906-5840-4a33-d2a2-5e1e5a062a91"
      },
      "source": [
        "data_reviews_3 = data_reviews_2.copy()\n",
        "\n",
        "data_reviews_3 = data_reviews_3.loc[:, ('username', 'product_id', 'hours')]\n",
        "data_reviews_3"
      ],
      "execution_count": 51,
      "outputs": [
        {
          "output_type": "execute_result",
          "data": {
            "text/html": [
              "<div>\n",
              "<style scoped>\n",
              "    .dataframe tbody tr th:only-of-type {\n",
              "        vertical-align: middle;\n",
              "    }\n",
              "\n",
              "    .dataframe tbody tr th {\n",
              "        vertical-align: top;\n",
              "    }\n",
              "\n",
              "    .dataframe thead th {\n",
              "        text-align: right;\n",
              "    }\n",
              "</style>\n",
              "<table border=\"1\" class=\"dataframe\">\n",
              "  <thead>\n",
              "    <tr style=\"text-align: right;\">\n",
              "      <th></th>\n",
              "      <th>username</th>\n",
              "      <th>product_id</th>\n",
              "      <th>hours</th>\n",
              "    </tr>\n",
              "  </thead>\n",
              "  <tbody>\n",
              "    <tr>\n",
              "      <th>0</th>\n",
              "      <td>Chaos Syren</td>\n",
              "      <td>725280</td>\n",
              "      <td>0.1</td>\n",
              "    </tr>\n",
              "    <tr>\n",
              "      <th>1</th>\n",
              "      <td>freakfantom</td>\n",
              "      <td>725280</td>\n",
              "      <td>0.1</td>\n",
              "    </tr>\n",
              "    <tr>\n",
              "      <th>2</th>\n",
              "      <td>Ariman1</td>\n",
              "      <td>328100</td>\n",
              "      <td>13.2</td>\n",
              "    </tr>\n",
              "    <tr>\n",
              "      <th>3</th>\n",
              "      <td>dll3z</td>\n",
              "      <td>328100</td>\n",
              "      <td>0.4</td>\n",
              "    </tr>\n",
              "    <tr>\n",
              "      <th>4</th>\n",
              "      <td>Nyazicat</td>\n",
              "      <td>328100</td>\n",
              "      <td>2.2</td>\n",
              "    </tr>\n",
              "    <tr>\n",
              "      <th>...</th>\n",
              "      <td>...</td>\n",
              "      <td>...</td>\n",
              "      <td>...</td>\n",
              "    </tr>\n",
              "    <tr>\n",
              "      <th>775464</th>\n",
              "      <td>rt974</td>\n",
              "      <td>518790</td>\n",
              "      <td>9.4</td>\n",
              "    </tr>\n",
              "    <tr>\n",
              "      <th>775465</th>\n",
              "      <td>Fallenglory</td>\n",
              "      <td>518790</td>\n",
              "      <td>35.8</td>\n",
              "    </tr>\n",
              "    <tr>\n",
              "      <th>775466</th>\n",
              "      <td>GooseMan</td>\n",
              "      <td>518790</td>\n",
              "      <td>32.4</td>\n",
              "    </tr>\n",
              "    <tr>\n",
              "      <th>775467</th>\n",
              "      <td>lazyboy82</td>\n",
              "      <td>518790</td>\n",
              "      <td>96.9</td>\n",
              "    </tr>\n",
              "    <tr>\n",
              "      <th>775468</th>\n",
              "      <td>Parad0x +x</td>\n",
              "      <td>518790</td>\n",
              "      <td>1.3</td>\n",
              "    </tr>\n",
              "  </tbody>\n",
              "</table>\n",
              "<p>775469 rows × 3 columns</p>\n",
              "</div>"
            ],
            "text/plain": [
              "           username  product_id  hours\n",
              "0       Chaos Syren      725280    0.1\n",
              "1       freakfantom      725280    0.1\n",
              "2           Ariman1      328100   13.2\n",
              "3             dll3z      328100    0.4\n",
              "4          Nyazicat      328100    2.2\n",
              "...             ...         ...    ...\n",
              "775464        rt974      518790    9.4\n",
              "775465  Fallenglory      518790   35.8\n",
              "775466     GooseMan      518790   32.4\n",
              "775467    lazyboy82      518790   96.9\n",
              "775468   Parad0x +x      518790    1.3\n",
              "\n",
              "[775469 rows x 3 columns]"
            ]
          },
          "metadata": {
            "tags": []
          },
          "execution_count": 51
        }
      ]
    },
    {
      "cell_type": "code",
      "metadata": {
        "colab": {
          "base_uri": "https://localhost:8080/"
        },
        "id": "b-ayA4eg-KX-",
        "outputId": "ca3e2763-cebe-4bce-9766-aed21b2dcc8e"
      },
      "source": [
        "print(data_reviews_3.isnull().sum())\n",
        "print(data_reviews_3.shape)"
      ],
      "execution_count": 52,
      "outputs": [
        {
          "output_type": "stream",
          "text": [
            "username      0\n",
            "product_id    0\n",
            "hours         0\n",
            "dtype: int64\n",
            "(775469, 3)\n"
          ],
          "name": "stdout"
        }
      ]
    },
    {
      "cell_type": "markdown",
      "metadata": {
        "id": "tssVUaw5HdAS"
      },
      "source": [
        "#### **Deteccion de outliers**"
      ]
    },
    {
      "cell_type": "markdown",
      "metadata": {
        "id": "kSsmujm0HwOi"
      },
      "source": [
        "Aplicamos el método de IQR para eliminar los outliers de la variable \"hours\".\n"
      ]
    },
    {
      "cell_type": "code",
      "metadata": {
        "colab": {
          "base_uri": "https://localhost:8080/",
          "height": 849
        },
        "id": "CBWGzHxug1rm",
        "outputId": "c9c36704-b11d-498f-b65b-45c103ad8728"
      },
      "source": [
        "plt.subplots(figsize=(20, 14))\n",
        "\n",
        "plt.subplot(2,1,1)\n",
        "plt.title(\"Distribucion Hours\" ,size=18)\n",
        "sns.histplot(data_reviews_3, x= \"hours\", bins=100)\n",
        "plt.xlabel('hours',size=14)\n",
        "plt.ylabel('distribucion',size=14)\n",
        "\n",
        "plt.subplot(2,1,2)\n",
        "sns.boxplot(data = data_reviews_3, x= \"hours\",palette=\"Spectral\",orient=\"h\")\n",
        "plt.xlabel('hours',size=14)\n",
        "plt.ylabel('Distribucion',size=14)\n",
        "plt.title(\"Distribucion hours\" ,size=18)\n",
        "\n",
        "plt.show()"
      ],
      "execution_count": 53,
      "outputs": [
        {
          "output_type": "display_data",
          "data": {
            "image/png": "[encoded data removed]",
            "text/plain": [
              "<Figure size 1440x1008 with 2 Axes>"
            ]
          },
          "metadata": {
            "tags": []
          }
        }
      ]
    },
    {
      "cell_type": "code",
      "metadata": {
        "colab": {
          "base_uri": "https://localhost:8080/"
        },
        "id": "6ZHR7u_EHkGK",
        "outputId": "bcd49520-3a7b-4afe-9ae1-a5639e04a75d"
      },
      "source": [
        "Q1 = data_reviews_3.hours.quantile(0.25)\n",
        "Q3 = data_reviews_3.hours.quantile(0.75)\n",
        "\n",
        "IQR = Q3 - Q1\n",
        "hours_min = Q1 #- (IQR*1.5)  Se toma solo el primer cuartil ya que da un número negativo\n",
        "hours_max = Q3 + (IQR*1.5)\n",
        "\n",
        "print(\"las horas maxima son {}, las horas minimas son {} y el IQR {}\" .format(hours_max,hours_min,IQR))\n",
        "print(\"\")"
      ],
      "execution_count": 54,
      "outputs": [
        {
          "output_type": "stream",
          "text": [
            "las horas maxima son 143.0, las horas minimas son 4.0 y el IQR 55.6\n",
            "\n"
          ],
          "name": "stdout"
        }
      ]
    },
    {
      "cell_type": "code",
      "metadata": {
        "id": "zQJkoL55ldqF"
      },
      "source": [
        "data_reviews_3a = data_reviews_3[(data_reviews_3.hours > hours_min)&(data_reviews_3.hours< hours_max)]"
      ],
      "execution_count": 55,
      "outputs": []
    },
    {
      "cell_type": "code",
      "metadata": {
        "colab": {
          "base_uri": "https://localhost:8080/"
        },
        "id": "NTSbBS5ymB8T",
        "outputId": "0e9539e3-af90-43b1-d112-4a592af52815"
      },
      "source": [
        "a=len(data_reviews_3a)\n",
        "b=len(data_reviews_3)\n",
        "c=b-a\n",
        "e=c*100/b\n",
        "print(\"La cantidad de reviews que perdemos son: \",c,\"reviews; un \",e, \" % de las reseñas.\" )"
      ],
      "execution_count": 56,
      "outputs": [
        {
          "output_type": "stream",
          "text": [
            "La cantidad de reviews que perdemos son:  305897 reviews; un  39.44670902382945  % de las reseñas.\n"
          ],
          "name": "stdout"
        }
      ]
    },
    {
      "cell_type": "code",
      "metadata": {
        "colab": {
          "base_uri": "https://localhost:8080/",
          "height": 849
        },
        "id": "EqOpzIRVj6Mu",
        "outputId": "f1225114-90e8-4050-dbee-a57c08676f2c"
      },
      "source": [
        "plt.subplots(figsize=(20, 14))\n",
        "\n",
        "plt.subplot(2,1,1)\n",
        "plt.title(\"Distribucion Hours\" ,size=18)\n",
        "sns.histplot(data_reviews_3a, x= \"hours\", bins=100)\n",
        "plt.xlabel('hours',size=14)\n",
        "plt.ylabel('distribucion',size=14)\n",
        "\n",
        "plt.subplot(2,1,2)\n",
        "sns.boxplot(data = data_reviews_3a, x= \"hours\",palette=\"Spectral\",orient=\"h\")\n",
        "plt.xlabel('hours',size=14)\n",
        "plt.ylabel('Distribucion',size=14)\n",
        "plt.title(\"Distribucion hours\" ,size=18)\n",
        "\n",
        "plt.show()"
      ],
      "execution_count": 57,
      "outputs": [
        {
          "output_type": "display_data",
          "data": {
            "image/png": "[encoded data removed]",
            "text/plain": [
              "<Figure size 1440x1008 with 2 Axes>"
            ]
          },
          "metadata": {
            "tags": []
          }
        }
      ]
    },
    {
      "cell_type": "markdown",
      "metadata": {
        "id": "WQHGw-BSlCaE"
      },
      "source": [
        "Como la variable **\"hours\"** la queremos convertir un un \"ranking\" pero su distribución es muy asimetrica ya que cuentas con muy pocas reseñas con muchas horas jugadas y con una gran cantidad con pocas horas jugadas, vamos a eliminar los outliers de forma manual, tomando solo aquellos que están por encima del 3er cuartil.\n",
        "\n",
        "Cabe destacar que el concepto de ranking implica de cierta forma, que las distancias que hay entre \"punto y punto\" son iguales. Por ejemplo el puntaje 1 cabe 5 veces en el puntaje 5."
      ]
    },
    {
      "cell_type": "code",
      "metadata": {
        "colab": {
          "base_uri": "https://localhost:8080/",
          "height": 301
        },
        "id": "PimVc-hkog57",
        "outputId": "ce6c9f5e-faa1-487c-af8b-f7029b0c515b"
      },
      "source": [
        "reviews_por_horas_1 = data_reviews_3.hours.value_counts()\n",
        "\n",
        "plt.hist(reviews_por_horas_1, log=True, bins = 100)\n",
        "\n",
        "plt.xlabel('Cantidad de usuarios')\n",
        "plt.ylabel('Cantidad de horas jugadas')\n",
        "plt.title('Cantidad de horas jugadas por Usuarios')\n",
        "plt.show()\n",
        "\n"
      ],
      "execution_count": 58,
      "outputs": [
        {
          "output_type": "display_data",
          "data": {
            "image/png": "[encoded data removed]",
            "text/plain": [
              "<Figure size 432x288 with 1 Axes>"
            ]
          },
          "metadata": {
            "tags": []
          }
        }
      ]
    },
    {
      "cell_type": "code",
      "metadata": {
        "id": "Q73Ja68Qmnga"
      },
      "source": [
        "data_reviews_3b = data_reviews_3.loc[data_reviews_3.hours < 4000]"
      ],
      "execution_count": 59,
      "outputs": []
    },
    {
      "cell_type": "code",
      "metadata": {
        "colab": {
          "base_uri": "https://localhost:8080/"
        },
        "id": "SFIYQSNmkzHI",
        "outputId": "b3ecc117-38b3-45e8-a954-b30a7ff469a0"
      },
      "source": [
        "a=len(data_reviews_3b)\n",
        "b=len(data_reviews_3)\n",
        "c=b-a\n",
        "e=c*100/b\n",
        "print(\"La cantidad de reviews que perdemos son: \",c,\"reviews; un \",e, \" % de las reseñas.\" )"
      ],
      "execution_count": 60,
      "outputs": [
        {
          "output_type": "stream",
          "text": [
            "La cantidad de reviews que perdemos son:  1232 reviews; un  0.15887159899364126  % de las reseñas.\n"
          ],
          "name": "stdout"
        }
      ]
    },
    {
      "cell_type": "code",
      "metadata": {
        "colab": {
          "base_uri": "https://localhost:8080/",
          "height": 849
        },
        "id": "ubemd1d9pFtK",
        "outputId": "697f5713-8640-42d6-d287-a1809369f369"
      },
      "source": [
        "plt.subplots(figsize=(20, 14))\n",
        "\n",
        "plt.subplot(2,1,1)\n",
        "plt.title(\"Distribucion Hours\" ,size=18)\n",
        "sns.histplot(data_reviews_3b, x= \"hours\", bins=100)\n",
        "plt.xlabel('hours',size=14)\n",
        "plt.ylabel('distribucion',size=14)\n",
        "\n",
        "plt.subplot(2,1,2)\n",
        "sns.boxplot(data = data_reviews_3b, x= \"hours\",palette=\"Spectral\",orient=\"h\")\n",
        "plt.xlabel('hours',size=14)\n",
        "plt.ylabel('Distribucion',size=14)\n",
        "plt.title(\"Distribucion hours\" ,size=18)\n",
        "\n",
        "plt.show()"
      ],
      "execution_count": 61,
      "outputs": [
        {
          "output_type": "display_data",
          "data": {
            "image/png": "[encoded data removed]",
            "text/plain": [
              "<Figure size 1440x1008 with 2 Axes>"
            ]
          },
          "metadata": {
            "tags": []
          }
        }
      ]
    },
    {
      "cell_type": "markdown",
      "metadata": {
        "id": "eULYIGyTrOEi"
      },
      "source": [
        "#### **Encoder**"
      ]
    },
    {
      "cell_type": "code",
      "metadata": {
        "colab": {
          "base_uri": "https://localhost:8080/",
          "height": 424
        },
        "id": "ylFfMfP7toUB",
        "outputId": "a054707d-2fb1-44fe-e780-5d14f557bfb8"
      },
      "source": [
        "data_reviews_3b"
      ],
      "execution_count": 62,
      "outputs": [
        {
          "output_type": "execute_result",
          "data": {
            "text/html": [
              "<div>\n",
              "<style scoped>\n",
              "    .dataframe tbody tr th:only-of-type {\n",
              "        vertical-align: middle;\n",
              "    }\n",
              "\n",
              "    .dataframe tbody tr th {\n",
              "        vertical-align: top;\n",
              "    }\n",
              "\n",
              "    .dataframe thead th {\n",
              "        text-align: right;\n",
              "    }\n",
              "</style>\n",
              "<table border=\"1\" class=\"dataframe\">\n",
              "  <thead>\n",
              "    <tr style=\"text-align: right;\">\n",
              "      <th></th>\n",
              "      <th>username</th>\n",
              "      <th>product_id</th>\n",
              "      <th>hours</th>\n",
              "    </tr>\n",
              "  </thead>\n",
              "  <tbody>\n",
              "    <tr>\n",
              "      <th>0</th>\n",
              "      <td>Chaos Syren</td>\n",
              "      <td>725280</td>\n",
              "      <td>0.1</td>\n",
              "    </tr>\n",
              "    <tr>\n",
              "      <th>1</th>\n",
              "      <td>freakfantom</td>\n",
              "      <td>725280</td>\n",
              "      <td>0.1</td>\n",
              "    </tr>\n",
              "    <tr>\n",
              "      <th>2</th>\n",
              "      <td>Ariman1</td>\n",
              "      <td>328100</td>\n",
              "      <td>13.2</td>\n",
              "    </tr>\n",
              "    <tr>\n",
              "      <th>3</th>\n",
              "      <td>dll3z</td>\n",
              "      <td>328100</td>\n",
              "      <td>0.4</td>\n",
              "    </tr>\n",
              "    <tr>\n",
              "      <th>4</th>\n",
              "      <td>Nyazicat</td>\n",
              "      <td>328100</td>\n",
              "      <td>2.2</td>\n",
              "    </tr>\n",
              "    <tr>\n",
              "      <th>...</th>\n",
              "      <td>...</td>\n",
              "      <td>...</td>\n",
              "      <td>...</td>\n",
              "    </tr>\n",
              "    <tr>\n",
              "      <th>775464</th>\n",
              "      <td>rt974</td>\n",
              "      <td>518790</td>\n",
              "      <td>9.4</td>\n",
              "    </tr>\n",
              "    <tr>\n",
              "      <th>775465</th>\n",
              "      <td>Fallenglory</td>\n",
              "      <td>518790</td>\n",
              "      <td>35.8</td>\n",
              "    </tr>\n",
              "    <tr>\n",
              "      <th>775466</th>\n",
              "      <td>GooseMan</td>\n",
              "      <td>518790</td>\n",
              "      <td>32.4</td>\n",
              "    </tr>\n",
              "    <tr>\n",
              "      <th>775467</th>\n",
              "      <td>lazyboy82</td>\n",
              "      <td>518790</td>\n",
              "      <td>96.9</td>\n",
              "    </tr>\n",
              "    <tr>\n",
              "      <th>775468</th>\n",
              "      <td>Parad0x +x</td>\n",
              "      <td>518790</td>\n",
              "      <td>1.3</td>\n",
              "    </tr>\n",
              "  </tbody>\n",
              "</table>\n",
              "<p>774237 rows × 3 columns</p>\n",
              "</div>"
            ],
            "text/plain": [
              "           username  product_id  hours\n",
              "0       Chaos Syren      725280    0.1\n",
              "1       freakfantom      725280    0.1\n",
              "2           Ariman1      328100   13.2\n",
              "3             dll3z      328100    0.4\n",
              "4          Nyazicat      328100    2.2\n",
              "...             ...         ...    ...\n",
              "775464        rt974      518790    9.4\n",
              "775465  Fallenglory      518790   35.8\n",
              "775466     GooseMan      518790   32.4\n",
              "775467    lazyboy82      518790   96.9\n",
              "775468   Parad0x +x      518790    1.3\n",
              "\n",
              "[774237 rows x 3 columns]"
            ]
          },
          "metadata": {
            "tags": []
          },
          "execution_count": 62
        }
      ]
    },
    {
      "cell_type": "markdown",
      "metadata": {
        "id": "dMHoMnKxr6Hp"
      },
      "source": [
        "**username** es el nombre de cada usuario y es único.\n",
        "Realizamos encoding para esta variable."
      ]
    },
    {
      "cell_type": "code",
      "metadata": {
        "id": "icXKJ25lr1ob"
      },
      "source": [
        "Labelencoder = LabelEncoder()\n",
        "data_reviews_3b[\"username\"] = Labelencoder.fit_transform(data_reviews_3b[\"username\"])"
      ],
      "execution_count": null,
      "outputs": []
    },
    {
      "cell_type": "code",
      "metadata": {
        "colab": {
          "base_uri": "https://localhost:8080/",
          "height": 424
        },
        "id": "wEKMZg_Yww6q",
        "outputId": "2cc32d47-845e-4948-893a-91d59a608ac5"
      },
      "source": [
        "data_reviews_3b"
      ],
      "execution_count": 64,
      "outputs": [
        {
          "output_type": "execute_result",
          "data": {
            "text/html": [
              "<div>\n",
              "<style scoped>\n",
              "    .dataframe tbody tr th:only-of-type {\n",
              "        vertical-align: middle;\n",
              "    }\n",
              "\n",
              "    .dataframe tbody tr th {\n",
              "        vertical-align: top;\n",
              "    }\n",
              "\n",
              "    .dataframe thead th {\n",
              "        text-align: right;\n",
              "    }\n",
              "</style>\n",
              "<table border=\"1\" class=\"dataframe\">\n",
              "  <thead>\n",
              "    <tr style=\"text-align: right;\">\n",
              "      <th></th>\n",
              "      <th>username</th>\n",
              "      <th>product_id</th>\n",
              "      <th>hours</th>\n",
              "    </tr>\n",
              "  </thead>\n",
              "  <tbody>\n",
              "    <tr>\n",
              "      <th>0</th>\n",
              "      <td>62190</td>\n",
              "      <td>725280</td>\n",
              "      <td>0.1</td>\n",
              "    </tr>\n",
              "    <tr>\n",
              "      <th>1</th>\n",
              "      <td>432248</td>\n",
              "      <td>725280</td>\n",
              "      <td>0.1</td>\n",
              "    </tr>\n",
              "    <tr>\n",
              "      <th>2</th>\n",
              "      <td>26722</td>\n",
              "      <td>328100</td>\n",
              "      <td>13.2</td>\n",
              "    </tr>\n",
              "    <tr>\n",
              "      <th>3</th>\n",
              "      <td>423209</td>\n",
              "      <td>328100</td>\n",
              "      <td>0.4</td>\n",
              "    </tr>\n",
              "    <tr>\n",
              "      <th>4</th>\n",
              "      <td>245739</td>\n",
              "      <td>328100</td>\n",
              "      <td>2.2</td>\n",
              "    </tr>\n",
              "    <tr>\n",
              "      <th>...</th>\n",
              "      <td>...</td>\n",
              "      <td>...</td>\n",
              "      <td>...</td>\n",
              "    </tr>\n",
              "    <tr>\n",
              "      <th>775464</th>\n",
              "      <td>485923</td>\n",
              "      <td>518790</td>\n",
              "      <td>9.4</td>\n",
              "    </tr>\n",
              "    <tr>\n",
              "      <th>775465</th>\n",
              "      <td>115291</td>\n",
              "      <td>518790</td>\n",
              "      <td>35.8</td>\n",
              "    </tr>\n",
              "    <tr>\n",
              "      <th>775466</th>\n",
              "      <td>136298</td>\n",
              "      <td>518790</td>\n",
              "      <td>32.4</td>\n",
              "    </tr>\n",
              "    <tr>\n",
              "      <th>775467</th>\n",
              "      <td>456632</td>\n",
              "      <td>518790</td>\n",
              "      <td>96.9</td>\n",
              "    </tr>\n",
              "    <tr>\n",
              "      <th>775468</th>\n",
              "      <td>255752</td>\n",
              "      <td>518790</td>\n",
              "      <td>1.3</td>\n",
              "    </tr>\n",
              "  </tbody>\n",
              "</table>\n",
              "<p>774237 rows × 3 columns</p>\n",
              "</div>"
            ],
            "text/plain": [
              "        username  product_id  hours\n",
              "0          62190      725280    0.1\n",
              "1         432248      725280    0.1\n",
              "2          26722      328100   13.2\n",
              "3         423209      328100    0.4\n",
              "4         245739      328100    2.2\n",
              "...          ...         ...    ...\n",
              "775464    485923      518790    9.4\n",
              "775465    115291      518790   35.8\n",
              "775466    136298      518790   32.4\n",
              "775467    456632      518790   96.9\n",
              "775468    255752      518790    1.3\n",
              "\n",
              "[774237 rows x 3 columns]"
            ]
          },
          "metadata": {
            "tags": []
          },
          "execution_count": 64
        }
      ]
    },
    {
      "cell_type": "markdown",
      "metadata": {
        "id": "2VXHWi6ww9lb"
      },
      "source": [
        "#### **Rating**"
      ]
    },
    {
      "cell_type": "markdown",
      "metadata": {
        "id": "_8bESNvh2lj3"
      },
      "source": [
        "El valor de clasificacion (rating) que utilizaremos sera el de tiempo jugado (atributo \"hours\")."
      ]
    },
    {
      "cell_type": "code",
      "metadata": {
        "id": "2jJTr53nw_go"
      },
      "source": [
        "data_reviews_3b['rating'] = pd.qcut(data_reviews_3b.hours, 5, labels=['1', '2', '3', '4', '5'])"
      ],
      "execution_count": null,
      "outputs": []
    },
    {
      "cell_type": "code",
      "metadata": {
        "colab": {
          "base_uri": "https://localhost:8080/",
          "height": 336
        },
        "id": "fwKtqZmbxqYW",
        "outputId": "c6e19f4c-d433-4475-a612-6d99532033b8"
      },
      "source": [
        "fig = plt.figure()\n",
        "fig, ax = plt.subplots(figsize = (6,4))\n",
        "plt.title('Cantidad de Calificaciones por Rating')\n",
        "sns.countplot(data = data_reviews_3b, x ='rating')"
      ],
      "execution_count": 66,
      "outputs": [
        {
          "output_type": "execute_result",
          "data": {
            "text/plain": [
              "<matplotlib.axes._subplots.AxesSubplot at 0x7f51dd2b1650>"
            ]
          },
          "metadata": {
            "tags": []
          },
          "execution_count": 66
        },
        {
          "output_type": "display_data",
          "data": {
            "text/plain": [
              "<Figure size 432x288 with 0 Axes>"
            ]
          },
          "metadata": {
            "tags": []
          }
        },
        {
          "output_type": "display_data",
          "data": {
            "image/png": "[encoded data removed]",
            "text/plain": [
              "<Figure size 432x288 with 1 Axes>"
            ]
          },
          "metadata": {
            "tags": []
          }
        }
      ]
    },
    {
      "cell_type": "code",
      "metadata": {
        "colab": {
          "base_uri": "https://localhost:8080/"
        },
        "id": "NoskoFUF2rJH",
        "outputId": "5b44fc37-5ff2-4467-fece-c5e3fef99f9a"
      },
      "source": [
        "pd.unique(data_reviews_3b['rating'])"
      ],
      "execution_count": 67,
      "outputs": [
        {
          "output_type": "execute_result",
          "data": {
            "text/plain": [
              "['1', '3', '2', '4', '5']\n",
              "Categories (5, object): ['1' < '2' < '3' < '4' < '5']"
            ]
          },
          "metadata": {
            "tags": []
          },
          "execution_count": 67
        }
      ]
    },
    {
      "cell_type": "markdown",
      "metadata": {
        "id": "FeJX-0z620rO"
      },
      "source": [
        "- Los valores resultan categóricos, ordenados de menor a mayor.\n",
        "- Los pasamos a enteros, con el fin de poder seguir explorando sus datos."
      ]
    },
    {
      "cell_type": "code",
      "metadata": {
        "id": "2pgH9GCl21Pe"
      },
      "source": [
        "data_reviews_3b['rating'] = data_reviews_3b['rating'].astype(int)"
      ],
      "execution_count": null,
      "outputs": []
    },
    {
      "cell_type": "markdown",
      "metadata": {
        "id": "iiH7KXly3C8O"
      },
      "source": [
        "Reordenamos nuestro dataset, tomando solo las columnas necesarias para nuestro modelo"
      ]
    },
    {
      "cell_type": "code",
      "metadata": {
        "colab": {
          "base_uri": "https://localhost:8080/",
          "height": 424
        },
        "id": "3VZ3A9Nb260X",
        "outputId": "31be78e5-e673-40bb-de8d-f79763bb134b"
      },
      "source": [
        "data_reviews_modelo = data_reviews_3b[['username','product_id','rating']]\n",
        "data_reviews_modelo"
      ],
      "execution_count": 69,
      "outputs": [
        {
          "output_type": "execute_result",
          "data": {
            "text/html": [
              "<div>\n",
              "<style scoped>\n",
              "    .dataframe tbody tr th:only-of-type {\n",
              "        vertical-align: middle;\n",
              "    }\n",
              "\n",
              "    .dataframe tbody tr th {\n",
              "        vertical-align: top;\n",
              "    }\n",
              "\n",
              "    .dataframe thead th {\n",
              "        text-align: right;\n",
              "    }\n",
              "</style>\n",
              "<table border=\"1\" class=\"dataframe\">\n",
              "  <thead>\n",
              "    <tr style=\"text-align: right;\">\n",
              "      <th></th>\n",
              "      <th>username</th>\n",
              "      <th>product_id</th>\n",
              "      <th>rating</th>\n",
              "    </tr>\n",
              "  </thead>\n",
              "  <tbody>\n",
              "    <tr>\n",
              "      <th>0</th>\n",
              "      <td>62190</td>\n",
              "      <td>725280</td>\n",
              "      <td>1</td>\n",
              "    </tr>\n",
              "    <tr>\n",
              "      <th>1</th>\n",
              "      <td>432248</td>\n",
              "      <td>725280</td>\n",
              "      <td>1</td>\n",
              "    </tr>\n",
              "    <tr>\n",
              "      <th>2</th>\n",
              "      <td>26722</td>\n",
              "      <td>328100</td>\n",
              "      <td>3</td>\n",
              "    </tr>\n",
              "    <tr>\n",
              "      <th>3</th>\n",
              "      <td>423209</td>\n",
              "      <td>328100</td>\n",
              "      <td>1</td>\n",
              "    </tr>\n",
              "    <tr>\n",
              "      <th>4</th>\n",
              "      <td>245739</td>\n",
              "      <td>328100</td>\n",
              "      <td>1</td>\n",
              "    </tr>\n",
              "    <tr>\n",
              "      <th>...</th>\n",
              "      <td>...</td>\n",
              "      <td>...</td>\n",
              "      <td>...</td>\n",
              "    </tr>\n",
              "    <tr>\n",
              "      <th>775464</th>\n",
              "      <td>485923</td>\n",
              "      <td>518790</td>\n",
              "      <td>2</td>\n",
              "    </tr>\n",
              "    <tr>\n",
              "      <th>775465</th>\n",
              "      <td>115291</td>\n",
              "      <td>518790</td>\n",
              "      <td>4</td>\n",
              "    </tr>\n",
              "    <tr>\n",
              "      <th>775466</th>\n",
              "      <td>136298</td>\n",
              "      <td>518790</td>\n",
              "      <td>4</td>\n",
              "    </tr>\n",
              "    <tr>\n",
              "      <th>775467</th>\n",
              "      <td>456632</td>\n",
              "      <td>518790</td>\n",
              "      <td>5</td>\n",
              "    </tr>\n",
              "    <tr>\n",
              "      <th>775468</th>\n",
              "      <td>255752</td>\n",
              "      <td>518790</td>\n",
              "      <td>1</td>\n",
              "    </tr>\n",
              "  </tbody>\n",
              "</table>\n",
              "<p>774237 rows × 3 columns</p>\n",
              "</div>"
            ],
            "text/plain": [
              "        username  product_id  rating\n",
              "0          62190      725280       1\n",
              "1         432248      725280       1\n",
              "2          26722      328100       3\n",
              "3         423209      328100       1\n",
              "4         245739      328100       1\n",
              "...          ...         ...     ...\n",
              "775464    485923      518790       2\n",
              "775465    115291      518790       4\n",
              "775466    136298      518790       4\n",
              "775467    456632      518790       5\n",
              "775468    255752      518790       1\n",
              "\n",
              "[774237 rows x 3 columns]"
            ]
          },
          "metadata": {
            "tags": []
          },
          "execution_count": 69
        }
      ]
    },
    {
      "cell_type": "code",
      "metadata": {
        "colab": {
          "base_uri": "https://localhost:8080/"
        },
        "id": "A12M34B13Vg-",
        "outputId": "88c8aaf7-a42e-4707-a46a-11136b7eca3d"
      },
      "source": [
        "data_reviews_modelo.dtypes"
      ],
      "execution_count": 70,
      "outputs": [
        {
          "output_type": "execute_result",
          "data": {
            "text/plain": [
              "username      int64\n",
              "product_id    int64\n",
              "rating        int64\n",
              "dtype: object"
            ]
          },
          "metadata": {
            "tags": []
          },
          "execution_count": 70
        }
      ]
    },
    {
      "cell_type": "markdown",
      "metadata": {
        "id": "rxcV_tmS3gvP"
      },
      "source": [
        "Optimizamos las variables"
      ]
    },
    {
      "cell_type": "code",
      "metadata": {
        "id": "XLos-Ftd3XnY"
      },
      "source": [
        "#se optimizan los datatypes\n",
        "data_reviews_modelo['username'] = data_reviews_modelo['username'].astype(np.int32)\n",
        "data_reviews_modelo['product_id'] = data_reviews_modelo['product_id'].astype(np.int32)\n",
        "data_reviews_modelo['rating'] = data_reviews_modelo['rating'].astype(np.int32)"
      ],
      "execution_count": null,
      "outputs": []
    },
    {
      "cell_type": "code",
      "metadata": {
        "colab": {
          "base_uri": "https://localhost:8080/"
        },
        "id": "XgOFZ0yP4QAX",
        "outputId": "73edb170-2767-4491-ab13-bc8649774381"
      },
      "source": [
        "data_reviews_modelo.dtypes"
      ],
      "execution_count": 72,
      "outputs": [
        {
          "output_type": "execute_result",
          "data": {
            "text/plain": [
              "username      int32\n",
              "product_id    int32\n",
              "rating        int32\n",
              "dtype: object"
            ]
          },
          "metadata": {
            "tags": []
          },
          "execution_count": 72
        }
      ]
    },
    {
      "cell_type": "code",
      "metadata": {
        "colab": {
          "base_uri": "https://localhost:8080/",
          "height": 424
        },
        "id": "Qx57FF0I6m09",
        "outputId": "839a0f88-9990-4761-eddd-3c0fd80dc962"
      },
      "source": [
        "data_reviews_modelo"
      ],
      "execution_count": 73,
      "outputs": [
        {
          "output_type": "execute_result",
          "data": {
            "text/html": [
              "<div>\n",
              "<style scoped>\n",
              "    .dataframe tbody tr th:only-of-type {\n",
              "        vertical-align: middle;\n",
              "    }\n",
              "\n",
              "    .dataframe tbody tr th {\n",
              "        vertical-align: top;\n",
              "    }\n",
              "\n",
              "    .dataframe thead th {\n",
              "        text-align: right;\n",
              "    }\n",
              "</style>\n",
              "<table border=\"1\" class=\"dataframe\">\n",
              "  <thead>\n",
              "    <tr style=\"text-align: right;\">\n",
              "      <th></th>\n",
              "      <th>username</th>\n",
              "      <th>product_id</th>\n",
              "      <th>rating</th>\n",
              "    </tr>\n",
              "  </thead>\n",
              "  <tbody>\n",
              "    <tr>\n",
              "      <th>0</th>\n",
              "      <td>62190</td>\n",
              "      <td>725280</td>\n",
              "      <td>1</td>\n",
              "    </tr>\n",
              "    <tr>\n",
              "      <th>1</th>\n",
              "      <td>432248</td>\n",
              "      <td>725280</td>\n",
              "      <td>1</td>\n",
              "    </tr>\n",
              "    <tr>\n",
              "      <th>2</th>\n",
              "      <td>26722</td>\n",
              "      <td>328100</td>\n",
              "      <td>3</td>\n",
              "    </tr>\n",
              "    <tr>\n",
              "      <th>3</th>\n",
              "      <td>423209</td>\n",
              "      <td>328100</td>\n",
              "      <td>1</td>\n",
              "    </tr>\n",
              "    <tr>\n",
              "      <th>4</th>\n",
              "      <td>245739</td>\n",
              "      <td>328100</td>\n",
              "      <td>1</td>\n",
              "    </tr>\n",
              "    <tr>\n",
              "      <th>...</th>\n",
              "      <td>...</td>\n",
              "      <td>...</td>\n",
              "      <td>...</td>\n",
              "    </tr>\n",
              "    <tr>\n",
              "      <th>775464</th>\n",
              "      <td>485923</td>\n",
              "      <td>518790</td>\n",
              "      <td>2</td>\n",
              "    </tr>\n",
              "    <tr>\n",
              "      <th>775465</th>\n",
              "      <td>115291</td>\n",
              "      <td>518790</td>\n",
              "      <td>4</td>\n",
              "    </tr>\n",
              "    <tr>\n",
              "      <th>775466</th>\n",
              "      <td>136298</td>\n",
              "      <td>518790</td>\n",
              "      <td>4</td>\n",
              "    </tr>\n",
              "    <tr>\n",
              "      <th>775467</th>\n",
              "      <td>456632</td>\n",
              "      <td>518790</td>\n",
              "      <td>5</td>\n",
              "    </tr>\n",
              "    <tr>\n",
              "      <th>775468</th>\n",
              "      <td>255752</td>\n",
              "      <td>518790</td>\n",
              "      <td>1</td>\n",
              "    </tr>\n",
              "  </tbody>\n",
              "</table>\n",
              "<p>774237 rows × 3 columns</p>\n",
              "</div>"
            ],
            "text/plain": [
              "        username  product_id  rating\n",
              "0          62190      725280       1\n",
              "1         432248      725280       1\n",
              "2          26722      328100       3\n",
              "3         423209      328100       1\n",
              "4         245739      328100       1\n",
              "...          ...         ...     ...\n",
              "775464    485923      518790       2\n",
              "775465    115291      518790       4\n",
              "775466    136298      518790       4\n",
              "775467    456632      518790       5\n",
              "775468    255752      518790       1\n",
              "\n",
              "[774237 rows x 3 columns]"
            ]
          },
          "metadata": {
            "tags": []
          },
          "execution_count": 73
        }
      ]
    },
    {
      "cell_type": "markdown",
      "metadata": {
        "id": "oGbuJkn24WiC"
      },
      "source": [
        "Tenemos int32 para todos los features, lo cual nos permitirá un mejor procesamiento de datos por menor utilizacion de memoria que si fueran Dtype int64."
      ]
    },
    {
      "cell_type": "markdown",
      "metadata": {
        "id": "5Jn-S5184jPh"
      },
      "source": [
        "- Creamos dos Dataset \n",
        "\n",
        "*  data_reviews_modelo, con username, product_id y rating. \n",
        "*  data_games_modelo, con product_id y title\n",
        "\n",
        "Nos quedaran como base por si queremos hacer analisis diversos en otro notebook."
      ]
    },
    {
      "cell_type": "code",
      "metadata": {
        "id": "qXdKc6hs4kEM"
      },
      "source": [
        "#data_reviews_modelo.to_csv('/content/gdrive/MyDrive/Colab Files/data_reviews_modelo.csv', index= False) # Guardamos el Dataset modificado en un nuevo archivo\n",
        "#data_games_modelo.to_csv('/content/gdrive/MyDrive/Colab Files/data_games_modelo.csv', index= False) # Guardamos el Dataset modificado en un nuevo archivo"
      ],
      "execution_count": 74,
      "outputs": []
    },
    {
      "cell_type": "markdown",
      "metadata": {
        "id": "pTvh6NYq5Ghd"
      },
      "source": [
        "## **Filtro Colaborativo**\n",
        "\n"
      ]
    },
    {
      "cell_type": "markdown",
      "metadata": {
        "id": "0kabGe0o5OtF"
      },
      "source": [
        "Para realizar el sistema de recomendacion con el metodo de filtro colaborativo vamos a usar la libreria Surprise"
      ]
    },
    {
      "cell_type": "markdown",
      "metadata": {
        "id": "cGGiHith5gpN"
      },
      "source": [
        "\n",
        "* Los métodos de filtrado colaborativo construyen un modelo basado en el comportamiento pasado de los usuarios (artículos comprados anteriormente, películas vistas y calificadas, horas de juegos jugados etc.). Este modelo se utiliza luego para predecir elementos en los que el usuario puede estar interesado.\n",
        "- Ventajas: no necesitamos tener información acerca de los productos.\n",
        "- Desventajas: necesitamos construir la matríz de utilidad (que es muy dispersa) y llenarla es costosa en tiempo y dinero.\n",
        "* Para implementarlo, necesitamos un dataset donde cada fila represente un usuario, un juego y la calificación del usuario a ese juego."
      ]
    },
    {
      "cell_type": "markdown",
      "metadata": {
        "id": "1svtQ3Ss5pGS"
      },
      "source": [
        "### **Modelo Benchmarck**"
      ]
    },
    {
      "cell_type": "markdown",
      "metadata": {
        "id": "SCgUUd2teO6G"
      },
      "source": [
        "Crearemos un benchmark que recomiende a los usuarios los juegos basados en su popularidad.\n",
        "\n",
        "Es una recomendación muy sencilla que solo tomará aquellos juegos mas jugados, sin considerar características de ítem, usuarios, ni la interacción entre ellos."
      ]
    },
    {
      "cell_type": "code",
      "metadata": {
        "id": "zIIs4I2ytvaX",
        "colab": {
          "base_uri": "https://localhost:8080/",
          "height": 206
        },
        "outputId": "5b2aea34-6b39-4be4-cd0b-40d4ef6f434a"
      },
      "source": [
        "#data_reviews_modelo.describe()\n",
        "#data_games_modelo\n",
        "\n",
        "data_reviews_modelo.head()"
      ],
      "execution_count": 120,
      "outputs": [
        {
          "output_type": "execute_result",
          "data": {
            "text/html": [
              "<div>\n",
              "<style scoped>\n",
              "    .dataframe tbody tr th:only-of-type {\n",
              "        vertical-align: middle;\n",
              "    }\n",
              "\n",
              "    .dataframe tbody tr th {\n",
              "        vertical-align: top;\n",
              "    }\n",
              "\n",
              "    .dataframe thead th {\n",
              "        text-align: right;\n",
              "    }\n",
              "</style>\n",
              "<table border=\"1\" class=\"dataframe\">\n",
              "  <thead>\n",
              "    <tr style=\"text-align: right;\">\n",
              "      <th></th>\n",
              "      <th>username</th>\n",
              "      <th>product_id</th>\n",
              "      <th>rating</th>\n",
              "    </tr>\n",
              "  </thead>\n",
              "  <tbody>\n",
              "    <tr>\n",
              "      <th>0</th>\n",
              "      <td>62190</td>\n",
              "      <td>725280</td>\n",
              "      <td>1</td>\n",
              "    </tr>\n",
              "    <tr>\n",
              "      <th>1</th>\n",
              "      <td>432248</td>\n",
              "      <td>725280</td>\n",
              "      <td>1</td>\n",
              "    </tr>\n",
              "    <tr>\n",
              "      <th>2</th>\n",
              "      <td>26722</td>\n",
              "      <td>328100</td>\n",
              "      <td>3</td>\n",
              "    </tr>\n",
              "    <tr>\n",
              "      <th>3</th>\n",
              "      <td>423209</td>\n",
              "      <td>328100</td>\n",
              "      <td>1</td>\n",
              "    </tr>\n",
              "    <tr>\n",
              "      <th>4</th>\n",
              "      <td>245739</td>\n",
              "      <td>328100</td>\n",
              "      <td>1</td>\n",
              "    </tr>\n",
              "  </tbody>\n",
              "</table>\n",
              "</div>"
            ],
            "text/plain": [
              "   username  product_id  rating\n",
              "0     62190      725280       1\n",
              "1    432248      725280       1\n",
              "2     26722      328100       3\n",
              "3    423209      328100       1\n",
              "4    245739      328100       1"
            ]
          },
          "metadata": {
            "tags": []
          },
          "execution_count": 120
        }
      ]
    },
    {
      "cell_type": "code",
      "metadata": {
        "id": "1ESvnDA20Ao5"
      },
      "source": [
        "def get_popularity_recommendations(username, top=10):\n",
        "    recomendations = games_jugados[~games_jugados.index.isin(\n",
        "        data_reviews_modelo.query('username==@username').product_id)]\n",
        "    #plot_table(recomendations.head(top))\n",
        "    print(recomendations.head(top))"
      ],
      "execution_count": 76,
      "outputs": []
    },
    {
      "cell_type": "code",
      "metadata": {
        "colab": {
          "base_uri": "https://localhost:8080/"
        },
        "id": "TMHShf2u1Tjz",
        "outputId": "eb76d0e6-cddd-4c0c-e3b5-bc753e17bd37"
      },
      "source": [
        "get_popularity_recommendations('774237')"
      ],
      "execution_count": 105,
      "outputs": [
        {
          "output_type": "stream",
          "text": [
            "title\n",
            "Team Fortress 2       18334\n",
            "Rust                  10204\n",
            "Borderlands 2          7299\n",
            "Fallout 4              7094\n",
            "Grand Theft Auto V     5962\n",
            "Undertale              5697\n",
            "Warframe               5510\n",
            "Portal 2               5498\n",
            "DayZ                   5494\n",
            "Robocraft              5292\n",
            "Name: product_id, dtype: int64\n"
          ],
          "name": "stdout"
        }
      ]
    },
    {
      "cell_type": "code",
      "metadata": {
        "id": "7EvRxSEno9qC"
      },
      "source": [
        "#games_jugados.head(11)"
      ],
      "execution_count": 78,
      "outputs": []
    },
    {
      "cell_type": "markdown",
      "metadata": {
        "id": "sdwU9ayxXqLI"
      },
      "source": [
        "### **Filtro Colaborativo a partir de descomposición UV**"
      ]
    },
    {
      "cell_type": "code",
      "metadata": {
        "id": "cbgolsMuavxk",
        "colab": {
          "base_uri": "https://localhost:8080/"
        },
        "outputId": "db5b165e-2c65-4da2-c33a-db0427b2fc14"
      },
      "source": [
        "!pip install surprise"
      ],
      "execution_count": 79,
      "outputs": [
        {
          "output_type": "stream",
          "text": [
            "Collecting surprise\n",
            "  Downloading https://files.pythonhosted.org/packages/61/de/e5cba8682201fcf9c3719a6fdda95693468ed061945493dea2dd37c5618b/surprise-0.1-py2.py3-none-any.whl\n",
            "Collecting scikit-surprise\n",
            "\u001b[?25l  Downloading https://files.pythonhosted.org/packages/97/37/5d334adaf5ddd65da99fc65f6507e0e4599d092ba048f4302fe8775619e8/scikit-surprise-1.1.1.tar.gz (11.8MB)\n",
            "\u001b[K     |████████████████████████████████| 11.8MB 337kB/s \n",
            "\u001b[?25hRequirement already satisfied: joblib>=0.11 in /usr/local/lib/python3.7/dist-packages (from scikit-surprise->surprise) (1.0.1)\n",
            "Requirement already satisfied: numpy>=1.11.2 in /usr/local/lib/python3.7/dist-packages (from scikit-surprise->surprise) (1.19.5)\n",
            "Requirement already satisfied: scipy>=1.0.0 in /usr/local/lib/python3.7/dist-packages (from scikit-surprise->surprise) (1.4.1)\n",
            "Requirement already satisfied: six>=1.10.0 in /usr/local/lib/python3.7/dist-packages (from scikit-surprise->surprise) (1.15.0)\n",
            "Building wheels for collected packages: scikit-surprise\n",
            "  Building wheel for scikit-surprise (setup.py) ... \u001b[?25l\u001b[?25hdone\n",
            "  Created wheel for scikit-surprise: filename=scikit_surprise-1.1.1-cp37-cp37m-linux_x86_64.whl size=1617595 sha256=2d5d22398c2f93cab77fa8a7b97215a63357171cd571c9ffe2d81682ded26133\n",
            "  Stored in directory: /root/.cache/pip/wheels/78/9c/3d/41b419c9d2aff5b6e2b4c0fc8d25c538202834058f9ed110d0\n",
            "Successfully built scikit-surprise\n",
            "Installing collected packages: scikit-surprise, surprise\n",
            "Successfully installed scikit-surprise-1.1.1 surprise-0.1\n"
          ],
          "name": "stdout"
        }
      ]
    },
    {
      "cell_type": "code",
      "metadata": {
        "id": "QqDPQE6r5nRq"
      },
      "source": [
        "from surprise import Dataset\n",
        "from surprise import Reader\n",
        "from surprise.model_selection import train_test_split\n",
        "\n",
        "from surprise import SVD"
      ],
      "execution_count": 80,
      "outputs": []
    },
    {
      "cell_type": "markdown",
      "metadata": {
        "id": "ph7d3NcWqJHx"
      },
      "source": [
        "#### **1. Dataset y Train/test split**"
      ]
    },
    {
      "cell_type": "code",
      "metadata": {
        "colab": {
          "base_uri": "https://localhost:8080/",
          "height": 206
        },
        "id": "Sx1WxHOWarfU",
        "outputId": "4a2010c8-a0f0-4985-d58f-9a5eb0d4605a"
      },
      "source": [
        "data_reviews_modelo.head()"
      ],
      "execution_count": 81,
      "outputs": [
        {
          "output_type": "execute_result",
          "data": {
            "text/html": [
              "<div>\n",
              "<style scoped>\n",
              "    .dataframe tbody tr th:only-of-type {\n",
              "        vertical-align: middle;\n",
              "    }\n",
              "\n",
              "    .dataframe tbody tr th {\n",
              "        vertical-align: top;\n",
              "    }\n",
              "\n",
              "    .dataframe thead th {\n",
              "        text-align: right;\n",
              "    }\n",
              "</style>\n",
              "<table border=\"1\" class=\"dataframe\">\n",
              "  <thead>\n",
              "    <tr style=\"text-align: right;\">\n",
              "      <th></th>\n",
              "      <th>username</th>\n",
              "      <th>product_id</th>\n",
              "      <th>rating</th>\n",
              "    </tr>\n",
              "  </thead>\n",
              "  <tbody>\n",
              "    <tr>\n",
              "      <th>0</th>\n",
              "      <td>62190</td>\n",
              "      <td>725280</td>\n",
              "      <td>1</td>\n",
              "    </tr>\n",
              "    <tr>\n",
              "      <th>1</th>\n",
              "      <td>432248</td>\n",
              "      <td>725280</td>\n",
              "      <td>1</td>\n",
              "    </tr>\n",
              "    <tr>\n",
              "      <th>2</th>\n",
              "      <td>26722</td>\n",
              "      <td>328100</td>\n",
              "      <td>3</td>\n",
              "    </tr>\n",
              "    <tr>\n",
              "      <th>3</th>\n",
              "      <td>423209</td>\n",
              "      <td>328100</td>\n",
              "      <td>1</td>\n",
              "    </tr>\n",
              "    <tr>\n",
              "      <th>4</th>\n",
              "      <td>245739</td>\n",
              "      <td>328100</td>\n",
              "      <td>1</td>\n",
              "    </tr>\n",
              "  </tbody>\n",
              "</table>\n",
              "</div>"
            ],
            "text/plain": [
              "   username  product_id  rating\n",
              "0     62190      725280       1\n",
              "1    432248      725280       1\n",
              "2     26722      328100       3\n",
              "3    423209      328100       1\n",
              "4    245739      328100       1"
            ]
          },
          "metadata": {
            "tags": []
          },
          "execution_count": 81
        }
      ]
    },
    {
      "cell_type": "code",
      "metadata": {
        "colab": {
          "base_uri": "https://localhost:8080/",
          "height": 237
        },
        "id": "W6axNLXybDV8",
        "outputId": "8c490878-c6fb-4ac1-9da2-d2cc2574d68c"
      },
      "source": [
        "data_games_modelo.head()"
      ],
      "execution_count": 82,
      "outputs": [
        {
          "output_type": "execute_result",
          "data": {
            "text/html": [
              "<div>\n",
              "<style scoped>\n",
              "    .dataframe tbody tr th:only-of-type {\n",
              "        vertical-align: middle;\n",
              "    }\n",
              "\n",
              "    .dataframe tbody tr th {\n",
              "        vertical-align: top;\n",
              "    }\n",
              "\n",
              "    .dataframe thead th {\n",
              "        text-align: right;\n",
              "    }\n",
              "</style>\n",
              "<table border=\"1\" class=\"dataframe\">\n",
              "  <thead>\n",
              "    <tr style=\"text-align: right;\">\n",
              "      <th></th>\n",
              "      <th>title</th>\n",
              "    </tr>\n",
              "    <tr>\n",
              "      <th>product_id</th>\n",
              "      <th></th>\n",
              "    </tr>\n",
              "  </thead>\n",
              "  <tbody>\n",
              "    <tr>\n",
              "      <th>761140</th>\n",
              "      <td>Lost Summoner Kitty</td>\n",
              "    </tr>\n",
              "    <tr>\n",
              "      <th>643980</th>\n",
              "      <td>Ironbound</td>\n",
              "    </tr>\n",
              "    <tr>\n",
              "      <th>670290</th>\n",
              "      <td>Real Pool 3D - Poolians</td>\n",
              "    </tr>\n",
              "    <tr>\n",
              "      <th>767400</th>\n",
              "      <td>弹炸人2222</td>\n",
              "    </tr>\n",
              "    <tr>\n",
              "      <th>773570</th>\n",
              "      <td>Log Challenge</td>\n",
              "    </tr>\n",
              "  </tbody>\n",
              "</table>\n",
              "</div>"
            ],
            "text/plain": [
              "                              title\n",
              "product_id                         \n",
              "761140          Lost Summoner Kitty\n",
              "643980                    Ironbound\n",
              "670290      Real Pool 3D - Poolians\n",
              "767400                      弹炸人2222\n",
              "773570                Log Challenge"
            ]
          },
          "metadata": {
            "tags": []
          },
          "execution_count": 82
        }
      ]
    },
    {
      "cell_type": "code",
      "metadata": {
        "colab": {
          "base_uri": "https://localhost:8080/"
        },
        "id": "b4mUo04jpjDm",
        "outputId": "a9c50dec-0497-453d-f6c5-be8f44cb0760"
      },
      "source": [
        "print(data_reviews_modelo.shape)\n",
        "print(data_games_modelo.shape)"
      ],
      "execution_count": 83,
      "outputs": [
        {
          "output_type": "stream",
          "text": [
            "(774237, 3)\n",
            "(32131, 1)\n"
          ],
          "name": "stdout"
        }
      ]
    },
    {
      "cell_type": "markdown",
      "metadata": {
        "id": "EKyByvl5pLcg"
      },
      "source": [
        "Llevamos el dataset al formato que le gusta a la biblioteca"
      ]
    },
    {
      "cell_type": "code",
      "metadata": {
        "id": "Cn283ywKbGgS"
      },
      "source": [
        "  reader = Reader()"
      ],
      "execution_count": 84,
      "outputs": []
    },
    {
      "cell_type": "markdown",
      "metadata": {
        "id": "Cn4Rl3fUpTgc"
      },
      "source": [
        "Luego, creamos el Dataset de Surprise usando Dataset.load_from_df"
      ]
    },
    {
      "cell_type": "code",
      "metadata": {
        "id": "2uWpLM89pUFH"
      },
      "source": [
        "N_filas = 100000 # Limitamos el dataset a N_filas\n",
        "\n",
        "data = Dataset.load_from_df(data_reviews_modelo[['username', 'product_id', 'rating']][:N_filas], reader)"
      ],
      "execution_count": 85,
      "outputs": []
    },
    {
      "cell_type": "code",
      "metadata": {
        "id": "aWXZrtraqAlz"
      },
      "source": [
        "trainset, testset = train_test_split(data, test_size=.25)"
      ],
      "execution_count": 86,
      "outputs": []
    },
    {
      "cell_type": "markdown",
      "metadata": {
        "id": "Vm_9QoAYqQUI"
      },
      "source": [
        "####  **2. Entrenamiento**"
      ]
    },
    {
      "cell_type": "markdown",
      "metadata": {
        "id": "YT2z-IsxqZVg"
      },
      "source": [
        "Vamos a entrenar un algoritmo SVD."
      ]
    },
    {
      "cell_type": "code",
      "metadata": {
        "id": "XOsz3d2ZqBSS"
      },
      "source": [
        "algo = SVD()"
      ],
      "execution_count": 87,
      "outputs": []
    },
    {
      "cell_type": "markdown",
      "metadata": {
        "id": "vWSUt9C1qfkc"
      },
      "source": [
        "Entrenamos sobre el trainset"
      ]
    },
    {
      "cell_type": "code",
      "metadata": {
        "colab": {
          "base_uri": "https://localhost:8080/"
        },
        "id": "13AvmAq8qf7r",
        "outputId": "3772981f-dfe5-4b24-edb0-d742e66bebd0"
      },
      "source": [
        "algo.fit(trainset)"
      ],
      "execution_count": 88,
      "outputs": [
        {
          "output_type": "execute_result",
          "data": {
            "text/plain": [
              "<surprise.prediction_algorithms.matrix_factorization.SVD at 0x7f51dd2ca8d0>"
            ]
          },
          "metadata": {
            "tags": []
          },
          "execution_count": 88
        }
      ]
    },
    {
      "cell_type": "markdown",
      "metadata": {
        "id": "vL9tQlJTqjZp"
      },
      "source": [
        "Y predecimos sobre el testset."
      ]
    },
    {
      "cell_type": "code",
      "metadata": {
        "id": "myEQoWnRqhYi"
      },
      "source": [
        "predictions = algo.test(testset)"
      ],
      "execution_count": 89,
      "outputs": []
    },
    {
      "cell_type": "markdown",
      "metadata": {
        "id": "80w0l9NoqpJU"
      },
      "source": [
        "Explorar las característica de predictions y alguno de sus elementos"
      ]
    },
    {
      "cell_type": "code",
      "metadata": {
        "colab": {
          "base_uri": "https://localhost:8080/"
        },
        "id": "RqnlgKoqqnVT",
        "outputId": "99861e58-5a0e-4601-ecf5-6667b636da80"
      },
      "source": [
        "predictions[1]"
      ],
      "execution_count": 90,
      "outputs": [
        {
          "output_type": "execute_result",
          "data": {
            "text/plain": [
              "Prediction(uid=165804, iid=17450, r_ui=1.0, est=3.595735989279049, details={'was_impossible': False})"
            ]
          },
          "metadata": {
            "tags": []
          },
          "execution_count": 90
        }
      ]
    },
    {
      "cell_type": "markdown",
      "metadata": {
        "id": "glKKYd2VqwUR"
      },
      "source": [
        "En cambio, si queremos predecir para un usuario y una película en particular, usamos la función predict"
      ]
    },
    {
      "cell_type": "code",
      "metadata": {
        "colab": {
          "base_uri": "https://localhost:8080/"
        },
        "id": "p7BOaCfpqq_A",
        "outputId": "c51b1e57-6725-48c3-b470-4c0877dcf25a"
      },
      "source": [
        "algo.predict(219368\t\t, 725280)  #62203"
      ],
      "execution_count": 109,
      "outputs": [
        {
          "output_type": "execute_result",
          "data": {
            "text/plain": [
              "Prediction(uid=219368, iid=725280, r_ui=None, est=2.6676305224324652, details={'was_impossible': False})"
            ]
          },
          "metadata": {
            "tags": []
          },
          "execution_count": 109
        }
      ]
    },
    {
      "cell_type": "markdown",
      "metadata": {
        "id": "iVRiggQvrGi_"
      },
      "source": [
        "Exploremos un usuario, veamos cuáles juegos le gustaron  cuáles les recomienda el sistema.\n",
        "\n",
        "Juegos que le gustaron"
      ]
    },
    {
      "cell_type": "code",
      "metadata": {
        "colab": {
          "base_uri": "https://localhost:8080/",
          "height": 425
        },
        "id": "zQusO0lTqyqL",
        "outputId": "b7680d14-551c-4502-a550-566fd6a74af0"
      },
      "source": [
        "usuario = 219368\n",
        "rating = 1   # le pedimos juegos a las que haya puesto al menos 1 en raking, porque se supone que ya lo jugó\n",
        "data_user = data_reviews_modelo[(data_reviews_modelo['username'] == usuario) & (data_reviews_modelo['rating'] >= rating)]\n",
        "data_user = data_user.reset_index(drop=True)\n",
        "data_user['title'] = data_games_modelo['title'].loc[data_user.product_id].values\n",
        "data_user"
      ],
      "execution_count": 110,
      "outputs": [
        {
          "output_type": "execute_result",
          "data": {
            "text/html": [
              "<div>\n",
              "<style scoped>\n",
              "    .dataframe tbody tr th:only-of-type {\n",
              "        vertical-align: middle;\n",
              "    }\n",
              "\n",
              "    .dataframe tbody tr th {\n",
              "        vertical-align: top;\n",
              "    }\n",
              "\n",
              "    .dataframe thead th {\n",
              "        text-align: right;\n",
              "    }\n",
              "</style>\n",
              "<table border=\"1\" class=\"dataframe\">\n",
              "  <thead>\n",
              "    <tr style=\"text-align: right;\">\n",
              "      <th></th>\n",
              "      <th>username</th>\n",
              "      <th>product_id</th>\n",
              "      <th>rating</th>\n",
              "      <th>title</th>\n",
              "    </tr>\n",
              "  </thead>\n",
              "  <tbody>\n",
              "    <tr>\n",
              "      <th>0</th>\n",
              "      <td>219368</td>\n",
              "      <td>631920</td>\n",
              "      <td>4</td>\n",
              "      <td>Somewhere on Zibylon</td>\n",
              "    </tr>\n",
              "    <tr>\n",
              "      <th>1</th>\n",
              "      <td>219368</td>\n",
              "      <td>261640</td>\n",
              "      <td>5</td>\n",
              "      <td>Borderlands: The Pre-Sequel</td>\n",
              "    </tr>\n",
              "    <tr>\n",
              "      <th>2</th>\n",
              "      <td>219368</td>\n",
              "      <td>104900</td>\n",
              "      <td>2</td>\n",
              "      <td>ORION: Prelude</td>\n",
              "    </tr>\n",
              "    <tr>\n",
              "      <th>3</th>\n",
              "      <td>219368</td>\n",
              "      <td>362810</td>\n",
              "      <td>2</td>\n",
              "      <td>Fighties</td>\n",
              "    </tr>\n",
              "    <tr>\n",
              "      <th>4</th>\n",
              "      <td>219368</td>\n",
              "      <td>207610</td>\n",
              "      <td>3</td>\n",
              "      <td>The Walking Dead</td>\n",
              "    </tr>\n",
              "    <tr>\n",
              "      <th>5</th>\n",
              "      <td>219368</td>\n",
              "      <td>245170</td>\n",
              "      <td>3</td>\n",
              "      <td>Skullgirls</td>\n",
              "    </tr>\n",
              "    <tr>\n",
              "      <th>6</th>\n",
              "      <td>219368</td>\n",
              "      <td>521330</td>\n",
              "      <td>2</td>\n",
              "      <td>Tuebor: I Will Defend</td>\n",
              "    </tr>\n",
              "    <tr>\n",
              "      <th>7</th>\n",
              "      <td>219368</td>\n",
              "      <td>250460</td>\n",
              "      <td>1</td>\n",
              "      <td>Bridge Constructor</td>\n",
              "    </tr>\n",
              "    <tr>\n",
              "      <th>8</th>\n",
              "      <td>219368</td>\n",
              "      <td>55110</td>\n",
              "      <td>2</td>\n",
              "      <td>Red Faction®: Armageddon™</td>\n",
              "    </tr>\n",
              "    <tr>\n",
              "      <th>9</th>\n",
              "      <td>219368</td>\n",
              "      <td>8190</td>\n",
              "      <td>1</td>\n",
              "      <td>Just Cause 2</td>\n",
              "    </tr>\n",
              "    <tr>\n",
              "      <th>10</th>\n",
              "      <td>219368</td>\n",
              "      <td>346140</td>\n",
              "      <td>2</td>\n",
              "      <td>Hidden Object Bundle 5 in 1</td>\n",
              "    </tr>\n",
              "    <tr>\n",
              "      <th>11</th>\n",
              "      <td>219368</td>\n",
              "      <td>208650</td>\n",
              "      <td>4</td>\n",
              "      <td>Batman™: Arkham Knight</td>\n",
              "    </tr>\n",
              "  </tbody>\n",
              "</table>\n",
              "</div>"
            ],
            "text/plain": [
              "    username  product_id  rating                        title\n",
              "0     219368      631920       4         Somewhere on Zibylon\n",
              "1     219368      261640       5  Borderlands: The Pre-Sequel\n",
              "2     219368      104900       2               ORION: Prelude\n",
              "3     219368      362810       2                     Fighties\n",
              "4     219368      207610       3             The Walking Dead\n",
              "5     219368      245170       3                   Skullgirls\n",
              "6     219368      521330       2        Tuebor: I Will Defend\n",
              "7     219368      250460       1           Bridge Constructor\n",
              "8     219368       55110       2    Red Faction®: Armageddon™\n",
              "9     219368        8190       1                 Just Cause 2\n",
              "10    219368      346140       2  Hidden Object Bundle 5 in 1\n",
              "11    219368      208650       4       Batman™: Arkham Knight"
            ]
          },
          "metadata": {
            "tags": []
          },
          "execution_count": 110
        }
      ]
    },
    {
      "cell_type": "markdown",
      "metadata": {
        "id": "PxsLks_dsaIO"
      },
      "source": [
        "Creamos donde vamos a guardar las recomendaciones"
      ]
    },
    {
      "cell_type": "code",
      "metadata": {
        "colab": {
          "base_uri": "https://localhost:8080/",
          "height": 254
        },
        "id": "69uClvG2sahM",
        "outputId": "b2a1dec7-30ce-4196-eca3-91c92c40325b"
      },
      "source": [
        "recomendaciones_usuario = data_games_modelo.iloc[:32132].copy()\n",
        "print(recomendaciones_usuario.shape)\n",
        "recomendaciones_usuario.head()"
      ],
      "execution_count": 111,
      "outputs": [
        {
          "output_type": "stream",
          "text": [
            "(32131, 1)\n"
          ],
          "name": "stdout"
        },
        {
          "output_type": "execute_result",
          "data": {
            "text/html": [
              "<div>\n",
              "<style scoped>\n",
              "    .dataframe tbody tr th:only-of-type {\n",
              "        vertical-align: middle;\n",
              "    }\n",
              "\n",
              "    .dataframe tbody tr th {\n",
              "        vertical-align: top;\n",
              "    }\n",
              "\n",
              "    .dataframe thead th {\n",
              "        text-align: right;\n",
              "    }\n",
              "</style>\n",
              "<table border=\"1\" class=\"dataframe\">\n",
              "  <thead>\n",
              "    <tr style=\"text-align: right;\">\n",
              "      <th></th>\n",
              "      <th>title</th>\n",
              "    </tr>\n",
              "    <tr>\n",
              "      <th>product_id</th>\n",
              "      <th></th>\n",
              "    </tr>\n",
              "  </thead>\n",
              "  <tbody>\n",
              "    <tr>\n",
              "      <th>761140</th>\n",
              "      <td>Lost Summoner Kitty</td>\n",
              "    </tr>\n",
              "    <tr>\n",
              "      <th>643980</th>\n",
              "      <td>Ironbound</td>\n",
              "    </tr>\n",
              "    <tr>\n",
              "      <th>670290</th>\n",
              "      <td>Real Pool 3D - Poolians</td>\n",
              "    </tr>\n",
              "    <tr>\n",
              "      <th>767400</th>\n",
              "      <td>弹炸人2222</td>\n",
              "    </tr>\n",
              "    <tr>\n",
              "      <th>773570</th>\n",
              "      <td>Log Challenge</td>\n",
              "    </tr>\n",
              "  </tbody>\n",
              "</table>\n",
              "</div>"
            ],
            "text/plain": [
              "                              title\n",
              "product_id                         \n",
              "761140          Lost Summoner Kitty\n",
              "643980                    Ironbound\n",
              "670290      Real Pool 3D - Poolians\n",
              "767400                      弹炸人2222\n",
              "773570                Log Challenge"
            ]
          },
          "metadata": {
            "tags": []
          },
          "execution_count": 111
        }
      ]
    },
    {
      "cell_type": "markdown",
      "metadata": {
        "id": "LPk8awYns-1m"
      },
      "source": [
        "Sacamos del dataframe todos los juegos que ya sabemos que jugó"
      ]
    },
    {
      "cell_type": "code",
      "metadata": {
        "colab": {
          "base_uri": "https://localhost:8080/",
          "height": 442
        },
        "id": "eRvWVDgEs_MP",
        "outputId": "ad423399-4652-478b-941c-306242c24fe4"
      },
      "source": [
        "usuario_jugados = data_reviews_modelo[data_reviews_modelo['username'] == usuario]\n",
        "print(usuario_jugados.shape)\n",
        "usuario_jugados.head(12)"
      ],
      "execution_count": 113,
      "outputs": [
        {
          "output_type": "stream",
          "text": [
            "(12, 3)\n"
          ],
          "name": "stdout"
        },
        {
          "output_type": "execute_result",
          "data": {
            "text/html": [
              "<div>\n",
              "<style scoped>\n",
              "    .dataframe tbody tr th:only-of-type {\n",
              "        vertical-align: middle;\n",
              "    }\n",
              "\n",
              "    .dataframe tbody tr th {\n",
              "        vertical-align: top;\n",
              "    }\n",
              "\n",
              "    .dataframe thead th {\n",
              "        text-align: right;\n",
              "    }\n",
              "</style>\n",
              "<table border=\"1\" class=\"dataframe\">\n",
              "  <thead>\n",
              "    <tr style=\"text-align: right;\">\n",
              "      <th></th>\n",
              "      <th>username</th>\n",
              "      <th>product_id</th>\n",
              "      <th>rating</th>\n",
              "    </tr>\n",
              "  </thead>\n",
              "  <tbody>\n",
              "    <tr>\n",
              "      <th>11</th>\n",
              "      <td>219368</td>\n",
              "      <td>631920</td>\n",
              "      <td>4</td>\n",
              "    </tr>\n",
              "    <tr>\n",
              "      <th>104065</th>\n",
              "      <td>219368</td>\n",
              "      <td>261640</td>\n",
              "      <td>5</td>\n",
              "    </tr>\n",
              "    <tr>\n",
              "      <th>112597</th>\n",
              "      <td>219368</td>\n",
              "      <td>104900</td>\n",
              "      <td>2</td>\n",
              "    </tr>\n",
              "    <tr>\n",
              "      <th>165269</th>\n",
              "      <td>219368</td>\n",
              "      <td>362810</td>\n",
              "      <td>2</td>\n",
              "    </tr>\n",
              "    <tr>\n",
              "      <th>212215</th>\n",
              "      <td>219368</td>\n",
              "      <td>207610</td>\n",
              "      <td>3</td>\n",
              "    </tr>\n",
              "    <tr>\n",
              "      <th>248342</th>\n",
              "      <td>219368</td>\n",
              "      <td>245170</td>\n",
              "      <td>3</td>\n",
              "    </tr>\n",
              "    <tr>\n",
              "      <th>253951</th>\n",
              "      <td>219368</td>\n",
              "      <td>521330</td>\n",
              "      <td>2</td>\n",
              "    </tr>\n",
              "    <tr>\n",
              "      <th>292172</th>\n",
              "      <td>219368</td>\n",
              "      <td>250460</td>\n",
              "      <td>1</td>\n",
              "    </tr>\n",
              "    <tr>\n",
              "      <th>427806</th>\n",
              "      <td>219368</td>\n",
              "      <td>55110</td>\n",
              "      <td>2</td>\n",
              "    </tr>\n",
              "    <tr>\n",
              "      <th>440180</th>\n",
              "      <td>219368</td>\n",
              "      <td>8190</td>\n",
              "      <td>1</td>\n",
              "    </tr>\n",
              "    <tr>\n",
              "      <th>520319</th>\n",
              "      <td>219368</td>\n",
              "      <td>346140</td>\n",
              "      <td>2</td>\n",
              "    </tr>\n",
              "    <tr>\n",
              "      <th>653968</th>\n",
              "      <td>219368</td>\n",
              "      <td>208650</td>\n",
              "      <td>4</td>\n",
              "    </tr>\n",
              "  </tbody>\n",
              "</table>\n",
              "</div>"
            ],
            "text/plain": [
              "        username  product_id  rating\n",
              "11        219368      631920       4\n",
              "104065    219368      261640       5\n",
              "112597    219368      104900       2\n",
              "165269    219368      362810       2\n",
              "212215    219368      207610       3\n",
              "248342    219368      245170       3\n",
              "253951    219368      521330       2\n",
              "292172    219368      250460       1\n",
              "427806    219368       55110       2\n",
              "440180    219368        8190       1\n",
              "520319    219368      346140       2\n",
              "653968    219368      208650       4"
            ]
          },
          "metadata": {
            "tags": []
          },
          "execution_count": 113
        }
      ]
    },
    {
      "cell_type": "code",
      "metadata": {
        "colab": {
          "base_uri": "https://localhost:8080/",
          "height": 206
        },
        "id": "s2aTEH37tQU7",
        "outputId": "28dc7554-1a42-4ec3-a30e-038fa533cf32"
      },
      "source": [
        "recomendaciones_usuario.drop(usuario_jugados.product_id, inplace = True)\n",
        "recomendaciones_usuario = recomendaciones_usuario.reset_index()\n",
        "recomendaciones_usuario.head()"
      ],
      "execution_count": 114,
      "outputs": [
        {
          "output_type": "execute_result",
          "data": {
            "text/html": [
              "<div>\n",
              "<style scoped>\n",
              "    .dataframe tbody tr th:only-of-type {\n",
              "        vertical-align: middle;\n",
              "    }\n",
              "\n",
              "    .dataframe tbody tr th {\n",
              "        vertical-align: top;\n",
              "    }\n",
              "\n",
              "    .dataframe thead th {\n",
              "        text-align: right;\n",
              "    }\n",
              "</style>\n",
              "<table border=\"1\" class=\"dataframe\">\n",
              "  <thead>\n",
              "    <tr style=\"text-align: right;\">\n",
              "      <th></th>\n",
              "      <th>product_id</th>\n",
              "      <th>title</th>\n",
              "    </tr>\n",
              "  </thead>\n",
              "  <tbody>\n",
              "    <tr>\n",
              "      <th>0</th>\n",
              "      <td>761140</td>\n",
              "      <td>Lost Summoner Kitty</td>\n",
              "    </tr>\n",
              "    <tr>\n",
              "      <th>1</th>\n",
              "      <td>643980</td>\n",
              "      <td>Ironbound</td>\n",
              "    </tr>\n",
              "    <tr>\n",
              "      <th>2</th>\n",
              "      <td>670290</td>\n",
              "      <td>Real Pool 3D - Poolians</td>\n",
              "    </tr>\n",
              "    <tr>\n",
              "      <th>3</th>\n",
              "      <td>767400</td>\n",
              "      <td>弹炸人2222</td>\n",
              "    </tr>\n",
              "    <tr>\n",
              "      <th>4</th>\n",
              "      <td>773570</td>\n",
              "      <td>Log Challenge</td>\n",
              "    </tr>\n",
              "  </tbody>\n",
              "</table>\n",
              "</div>"
            ],
            "text/plain": [
              "   product_id                    title\n",
              "0      761140      Lost Summoner Kitty\n",
              "1      643980                Ironbound\n",
              "2      670290  Real Pool 3D - Poolians\n",
              "3      767400                  弹炸人2222\n",
              "4      773570            Log Challenge"
            ]
          },
          "metadata": {
            "tags": []
          },
          "execution_count": 114
        }
      ]
    },
    {
      "cell_type": "markdown",
      "metadata": {
        "id": "vH8ufLR8ti2z"
      },
      "source": [
        "Y hacemos las recomendaciones"
      ]
    },
    {
      "cell_type": "code",
      "metadata": {
        "id": "te96g4zXtgXF"
      },
      "source": [
        "recomendaciones_usuario['Estimate_Score'] = recomendaciones_usuario['product_id'].apply(lambda x: algo.predict(usuario, x).est)"
      ],
      "execution_count": 115,
      "outputs": []
    },
    {
      "cell_type": "code",
      "metadata": {
        "colab": {
          "base_uri": "https://localhost:8080/"
        },
        "id": "qDWxpzZ8tsvQ",
        "outputId": "047de20e-19e3-4b57-c52c-13d9d8f3ba96"
      },
      "source": [
        "recomendaciones_usuario = recomendaciones_usuario.sort_values('Estimate_Score', ascending=False)\n",
        "print(recomendaciones_usuario.head(10))"
      ],
      "execution_count": 118,
      "outputs": [
        {
          "output_type": "stream",
          "text": [
            "       product_id                                       title  Estimate_Score\n",
            "387         48700                  Mount &amp; Blade: Warband             4.5\n",
            "23226      281990                                   Stellaris             4.5\n",
            "26947      271590                          Grand Theft Auto V             4.3\n",
            "20599      415200                          Motorsport Manager             4.2\n",
            "29062      228180  Action! - Gameplay Recording and Streaming             4.2\n",
            "29194      251060                         Wargame: Red Dragon             4.0\n",
            "4939       342200                         MechWarrior Online™             4.0\n",
            "10766      538680  The Legend of Heroes: Trails of Cold Steel             4.0\n",
            "841          9900                            Star Trek Online             4.0\n",
            "583         47890                                 The Sims™ 3             4.0\n"
          ],
          "name": "stdout"
        }
      ]
    },
    {
      "cell_type": "markdown",
      "metadata": {
        "id": "PHBbC2pUoahS"
      },
      "source": [
        "Como se puede observar la lista de recomendación no coincide con el benchmark anteriormente como era de esperarse, ya que nuestro benchmark solo iba a recomendar los juegos mas populares a todos los usuarios, sin tomar ningún otro factor en cuenta."
      ]
    },
    {
      "cell_type": "markdown",
      "metadata": {
        "id": "QwAUEqGtt9eO"
      },
      "source": [
        "####  **3. Evaluación**"
      ]
    },
    {
      "cell_type": "markdown",
      "metadata": {
        "id": "qy8ZwBn2t6WW"
      },
      "source": [
        "Para el conjunto de testset, evaluamos el error RMSE entre las predicciones y las verdaderas calificaciones que le habían dado a los juegos. "
      ]
    },
    {
      "cell_type": "code",
      "metadata": {
        "colab": {
          "base_uri": "https://localhost:8080/"
        },
        "id": "PrylwZD3uFHD",
        "outputId": "31a5993a-1600-4958-bd39-e5267cddf6e4"
      },
      "source": [
        "from surprise import accuracy\n",
        "\n",
        "accuracy.rmse(predictions)"
      ],
      "execution_count": 119,
      "outputs": [
        {
          "output_type": "stream",
          "text": [
            "RMSE: 1.1151\n"
          ],
          "name": "stdout"
        },
        {
          "output_type": "execute_result",
          "data": {
            "text/plain": [
              "1.1151132539042363"
            ]
          },
          "metadata": {
            "tags": []
          },
          "execution_count": 119
        }
      ]
    },
    {
      "cell_type": "markdown",
      "metadata": {
        "id": "27ysRRe8ufRn"
      },
      "source": [
        "####  **4. Optimización**"
      ]
    },
    {
      "cell_type": "markdown",
      "metadata": {
        "id": "F5_6PV90unAW"
      },
      "source": [
        "Ejercicio: hacer un gráfico del desempeño del modelo en función del número de factores del SVD"
      ]
    },
    {
      "cell_type": "code",
      "metadata": {
        "colab": {
          "base_uri": "https://localhost:8080/"
        },
        "id": "2-y0xWBouHbf",
        "outputId": "6d11aef5-0f0a-45e8-991f-03842676fddc"
      },
      "source": [
        "from surprise.model_selection import cross_validate\n",
        "\n",
        "rmse_test_means = []\n",
        "factores = [1,2,4,8,16,32,64,128,256]\n",
        "\n",
        "for factor in factores:\n",
        "    print(f'\\nNúmero de Factores: {factor}')\n",
        "    algo = SVD(n_factors=factor)\n",
        "    cv = cross_validate(algo, data, measures=['RMSE'], cv = 3, verbose=True)\n",
        "    rmse_test_means.append(np.mean(cv['test_rmse']))"
      ],
      "execution_count": 99,
      "outputs": [
        {
          "output_type": "stream",
          "text": [
            "\n",
            "Número de Factores: 1\n",
            "Evaluating RMSE of algorithm SVD on 3 split(s).\n",
            "\n",
            "                  Fold 1  Fold 2  Fold 3  Mean    Std     \n",
            "RMSE (testset)    1.1268  1.1228  1.1277  1.1258  0.0022  \n",
            "Fit time          1.52    1.51    1.47    1.50    0.02    \n",
            "Test time         0.41    0.43    0.32    0.39    0.05    \n",
            "\n",
            "Número de Factores: 2\n",
            "Evaluating RMSE of algorithm SVD on 3 split(s).\n",
            "\n",
            "                  Fold 1  Fold 2  Fold 3  Mean    Std     \n",
            "RMSE (testset)    1.1278  1.1237  1.1247  1.1254  0.0017  \n",
            "Fit time          1.51    1.48    1.55    1.52    0.03    \n",
            "Test time         0.30    0.33    0.34    0.32    0.01    \n",
            "\n",
            "Número de Factores: 4\n",
            "Evaluating RMSE of algorithm SVD on 3 split(s).\n",
            "\n",
            "                  Fold 1  Fold 2  Fold 3  Mean    Std     \n",
            "RMSE (testset)    1.1191  1.1264  1.1300  1.1252  0.0045  \n",
            "Fit time          1.58    1.60    1.61    1.60    0.01    \n",
            "Test time         0.34    0.44    0.42    0.40    0.05    \n",
            "\n",
            "Número de Factores: 8\n",
            "Evaluating RMSE of algorithm SVD on 3 split(s).\n",
            "\n",
            "                  Fold 1  Fold 2  Fold 3  Mean    Std     \n",
            "RMSE (testset)    1.1209  1.1283  1.1264  1.1252  0.0032  \n",
            "Fit time          1.75    1.76    1.72    1.74    0.02    \n",
            "Test time         0.48    0.33    0.27    0.36    0.09    \n",
            "\n",
            "Número de Factores: 16\n",
            "Evaluating RMSE of algorithm SVD on 3 split(s).\n",
            "\n",
            "                  Fold 1  Fold 2  Fold 3  Mean    Std     \n",
            "RMSE (testset)    1.1251  1.1262  1.1225  1.1246  0.0016  \n",
            "Fit time          2.02    2.01    2.01    2.01    0.01    \n",
            "Test time         0.30    0.27    0.34    0.30    0.03    \n",
            "\n",
            "Número de Factores: 32\n",
            "Evaluating RMSE of algorithm SVD on 3 split(s).\n",
            "\n",
            "                  Fold 1  Fold 2  Fold 3  Mean    Std     \n",
            "RMSE (testset)    1.1206  1.1258  1.1260  1.1241  0.0025  \n",
            "Fit time          2.49    2.51    2.54    2.51    0.02    \n",
            "Test time         0.27    0.47    0.49    0.41    0.10    \n",
            "\n",
            "Número de Factores: 64\n",
            "Evaluating RMSE of algorithm SVD on 3 split(s).\n",
            "\n",
            "                  Fold 1  Fold 2  Fold 3  Mean    Std     \n",
            "RMSE (testset)    1.1249  1.1184  1.1348  1.1260  0.0067  \n",
            "Fit time          3.58    3.54    3.50    3.54    0.03    \n",
            "Test time         0.44    0.41    0.28    0.38    0.07    \n",
            "\n",
            "Número de Factores: 128\n",
            "Evaluating RMSE of algorithm SVD on 3 split(s).\n",
            "\n",
            "                  Fold 1  Fold 2  Fold 3  Mean    Std     \n",
            "RMSE (testset)    1.1275  1.1208  1.1318  1.1267  0.0045  \n",
            "Fit time          5.46    5.49    5.51    5.49    0.02    \n",
            "Test time         0.37    0.32    0.35    0.35    0.02    \n",
            "\n",
            "Número de Factores: 256\n",
            "Evaluating RMSE of algorithm SVD on 3 split(s).\n",
            "\n",
            "                  Fold 1  Fold 2  Fold 3  Mean    Std     \n",
            "RMSE (testset)    1.1294  1.1324  1.1268  1.1295  0.0023  \n",
            "Fit time          9.35    9.27    9.29    9.30    0.03    \n",
            "Test time         0.28    0.45    0.46    0.40    0.08    \n"
          ],
          "name": "stdout"
        }
      ]
    },
    {
      "cell_type": "code",
      "metadata": {
        "colab": {
          "base_uri": "https://localhost:8080/",
          "height": 285
        },
        "id": "pKVhulWVuzUO",
        "outputId": "b8339043-d53e-4a4a-dea6-939d96d7ec72"
      },
      "source": [
        "plt.scatter(factores, rmse_test_means)\n",
        "plt.xlabel('Numero de factores')\n",
        "plt.ylabel('Error RMSE')\n",
        "plt.show()"
      ],
      "execution_count": 100,
      "outputs": [
        {
          "output_type": "display_data",
          "data": {
            "image/png": "[encoded data removed]",
            "text/plain": [
              "<Figure size 432x288 with 1 Axes>"
            ]
          },
          "metadata": {
            "tags": []
          }
        }
      ]
    },
    {
      "cell_type": "markdown",
      "metadata": {
        "id": "Tf4ittCxAmS-"
      },
      "source": [
        "**Parámetros a optimizar:**\n",
        "\n",
        "n_factors : el número de factores.\n",
        "\n",
        "n_epochs : el número de iteraciones del descenso por gradiente estocástico.\n",
        "\n",
        "lr_all : la tasa de aprendizaje de todos los parámetros.\n",
        "\n",
        "reg_all : término de regularización para todos los parámetros."
      ]
    },
    {
      "cell_type": "code",
      "metadata": {
        "id": "vIU3jSVKu9Ap"
      },
      "source": [
        "#from surprise.model_selection import GridSearchCV\n",
        "\n",
        "#param_grid = {'n_factors': [5,50,100],'n_epochs': [5, 10,20], 'lr_all': [0.001, 0.002, 0.005],\n",
        "#              'reg_all': [0.002, 0.02, 0.2]}\n",
        "#gs = GridSearchCV(SVD, param_grid, measures=['rmse'], cv=3, n_jobs = -1)\n",
        "#gs.fit(data)"
      ],
      "execution_count": 101,
      "outputs": []
    },
    {
      "cell_type": "code",
      "metadata": {
        "id": "gGTvrvCFvHVK"
      },
      "source": [
        "#print(gs.best_score['rmse'])\n",
        "#print(gs.best_params['rmse'])"
      ],
      "execution_count": 102,
      "outputs": []
    },
    {
      "cell_type": "markdown",
      "metadata": {
        "id": "lhiuU31Az74l"
      },
      "source": [
        "1.1245104642094061\n",
        "\n",
        "\n",
        "{'n_factors': 5, 'n_epochs': 20, 'lr_all': 0.005, 'reg_all': 0.02}"
      ]
    },
    {
      "cell_type": "code",
      "metadata": {
        "colab": {
          "base_uri": "https://localhost:8080/"
        },
        "id": "mtnZgPg9z4ob",
        "outputId": "c2516240-e308-4c5f-d419-f620fd776032"
      },
      "source": [
        "algo_2 = SVD(n_factors=5, n_epochs=20, lr_all=0.005, reg_all= 0.02)\n",
        "algo_2.fit(trainset)\n",
        "predictions_2 = algo_2.test(testset)\n",
        "accuracy.rmse(predictions_2)"
      ],
      "execution_count": 103,
      "outputs": [
        {
          "output_type": "stream",
          "text": [
            "RMSE: 1.1126\n"
          ],
          "name": "stdout"
        },
        {
          "output_type": "execute_result",
          "data": {
            "text/plain": [
              "1.1126490013280204"
            ]
          },
          "metadata": {
            "tags": []
          },
          "execution_count": 103
        }
      ]
    },
    {
      "cell_type": "markdown",
      "metadata": {
        "id": "C1S6RAskbCTJ"
      },
      "source": [
        "Comparando las métricas, se observa que se obtiene una variación muy mínima al optimizar los datos.\n",
        "\n",
        "*  RMSE:            1.1151\n",
        "*  RMSE Optimizado: 1.1126"
      ]
    },
    {
      "cell_type": "markdown",
      "metadata": {
        "id": "YyOYcKRyAwNS"
      },
      "source": [
        "**Conclusion**"
      ]
    },
    {
      "cell_type": "markdown",
      "metadata": {
        "id": "Gqdhj8XtDQZl"
      },
      "source": [
        "Se puede considerar un RMSE de 1.1126 un buen resultado para un sistema de recomendacion, sin embargo puede que en la práctica no tenga muy buen resultado recomendando. Se debe emprolijar la variables horas para poder tener una mayor confianza, por ejemplo,  tener el cuenta la fecha que compro el juego cada persona con respecto a las horas jugadas, ya que no es lo mismo: un jugador que compró el juego hace un mes que hace un año."
      ]
    },
    {
      "cell_type": "markdown",
      "metadata": {
        "id": "R_WGVpF3XP_F"
      },
      "source": [
        "## **Para pensar, investigar y, opcionalmente, implementar**"
      ]
    },
    {
      "cell_type": "markdown",
      "metadata": {
        "id": "VFBpaXPMrtQ0"
      },
      "source": [
        "Una sugerencia para seguir investigando y mejorar el modelo sería utilizar procesamiento de lenguaje natural para poder interpretar la variable  **text**; la cual contiene la review escrita de cada usuario; y asignarle un puntaje a cada una. Se podría utilizar la librería vista en clase NLTK.\n",
        "\n",
        "Por otro lado, también se podría filtrar los juegos según sus tags y realizar un modelo para cada categoría teniendo mejor presición al momento de recomendar."
      ]
    }
  ]
}